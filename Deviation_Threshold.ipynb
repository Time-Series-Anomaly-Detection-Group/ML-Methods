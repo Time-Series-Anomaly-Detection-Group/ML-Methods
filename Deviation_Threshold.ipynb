{
 "cells": [
  {
   "cell_type": "markdown",
   "metadata": {},
   "source": [
    "This code was written by ***Santanu Dey***. It can be found [here](https://github.com/Time-Series-Anomaly-Detection-Group/common/blob/main/deviation_threshold.ipynb)\n",
    "Needed to duplicate in this repository with slight modifications."
   ]
  },
  {
   "cell_type": "code",
   "execution_count": 1,
   "metadata": {},
   "outputs": [],
   "source": [
    "import numpy as np\n",
    "\n",
    "def get_deviations(actualY, predictedY):\n",
    "    \"\"\"\n",
    "    Get absolute difference between actual and predicted time variant values.\n",
    "    Handles one time varying value column at a time for now.\n",
    "    \n",
    "    actualY - actual values array\n",
    "    predictedY - predicted values array\n",
    "    \n",
    "    return:\n",
    "    array of differences between actual and predicted values\n",
    "    \n",
    "    \"\"\"\n",
    "    \n",
    "    deviations = np.absolute(actualY - predictedY)\n",
    "    print(\"Deviation Min {}, Max {}\".format(np.amin(deviations, axis = 0), np.amax(deviations, axis = 0)))    \n",
    "    return deviations\n",
    "\n",
    "def get_anomaly_labels_by_deviation_threshold(actualY, predictedY, threshold = 0.1):\n",
    "    \"\"\"\n",
    "    Get array of is_anomaly (0|1) labels for |actual value - predicted value| > threshold.\n",
    "    Handles one time varying value column at a time for now.\n",
    "    \n",
    "    actualY - actual values array\n",
    "    predictedY - predicted values array\n",
    "    \n",
    "    return:\n",
    "    array of is_anomaly (0|1) labels\n",
    "    \n",
    "    \"\"\"\n",
    "    \n",
    "    deviations = get_deviations(actualY, predictedY)\n",
    "    labels = (deviations > threshold).astype('int')\n",
    "    print(\"Deviation > {} is_anomaly labels in data {}\".format(threshold, np.unique(labels, return_counts = True)))\n",
    "    return labels\n",
    "\n",
    "def get_anomaly_labels_by_deviation_pctile_threshold(actualY, predictedY, pctile = 95):\n",
    "    \"\"\"\n",
    "    Get array of is_anomaly (0|1) labels for |actual value - predicted value| > percentile value of deviations.\n",
    "    Handles one time varying value column at a time for now.\n",
    "    \n",
    "    actualY - actual values array\n",
    "    predictedY - predicted values array\n",
    "    \n",
    "    return:\n",
    "    array of is_anomaly (0|1) labels\n",
    "    \n",
    "    \"\"\"\n",
    "    \n",
    "    deviations = get_deviations(actualY, predictedY)\n",
    "    pctileDeviationValue = np.percentile(deviations, q=pctile, axis = 0)\n",
    "    print(\"Deviation {}th pctile {}\".format(pctile, pctileDeviationValue ))\n",
    "    labels = (deviations > pctileDeviationValue).astype('int')\n",
    "    print(\"Deviation > {}th pctile is_anomaly labels in data {}\".format(pctile, np.unique(labels, return_counts = True)))\n",
    "    return labels"
   ]
  },
  {
   "cell_type": "code",
   "execution_count": null,
   "metadata": {},
   "outputs": [],
   "source": []
  }
 ],
 "metadata": {
  "kernelspec": {
   "display_name": "Python 3",
   "language": "python",
   "name": "python3"
  },
  "language_info": {
   "codemirror_mode": {
    "name": "ipython",
    "version": 3
   },
   "file_extension": ".py",
   "mimetype": "text/x-python",
   "name": "python",
   "nbconvert_exporter": "python",
   "pygments_lexer": "ipython3",
   "version": "3.7.3"
  }
 },
 "nbformat": 4,
 "nbformat_minor": 4
}
