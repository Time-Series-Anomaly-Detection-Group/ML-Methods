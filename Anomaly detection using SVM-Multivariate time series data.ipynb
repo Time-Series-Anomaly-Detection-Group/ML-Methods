{
 "cells": [
  {
   "cell_type": "markdown",
   "metadata": {},
   "source": [
    "# Anomaly Record Detection in Sequence Data using Support Vector Machines -  NASA Data (Multivariate)"
   ]
  },
  {
   "cell_type": "code",
   "execution_count": 31,
   "metadata": {},
   "outputs": [],
   "source": [
    "import pandas as pd\n",
    "import numpy as np\n",
    "import os\n",
    "import sklearn\n",
    "from sklearn.multioutput import MultiOutputRegressor\n",
    "import matplotlib.pyplot as plt\n",
    "from sklearn.svm import SVR\n",
    "import matplotlib as mpl\n",
    "from sklearn.preprocessing import MinMaxScaler\n",
    "from sklearn.model_selection import GridSearchCV\n",
    "from sklearn.metrics import confusion_matrix, precision_score, recall_score, f1_score\n",
    "from functools import reduce\n",
    "import pickle\n",
    "from tabulate import tabulate\n",
    "\n",
    "%matplotlib inline\n",
    "mpl.rc('axes', labelsize=14)\n",
    "mpl.rc('xtick', labelsize=12)\n",
    "mpl.rc('ytick', labelsize=12)"
   ]
  },
  {
   "cell_type": "markdown",
   "metadata": {},
   "source": []
  },
  {
   "cell_type": "markdown",
   "metadata": {},
   "source": [
    "Below methods were originally written by ***Dey Santanu***. However, I have made slight changes to some of them, because the model I'm using is different and it doesn't take in 3D arrays.\n",
    "\n",
    "label_outliers, cleanup, read_data_with_labels, scale, get_deviations_mv, get_records_above_deviation_pctile_mv, get_classification_metrics\n",
    "\n",
    "The methods which I wrote are;\n",
    "createColumnDict, generate_dataframe_with_sliding_window, fit_train_eval_model and plot_and_tabulate, "
   ]
  },
  {
   "cell_type": "code",
   "execution_count": 32,
   "metadata": {},
   "outputs": [],
   "source": [
    "global is_anomaly_column\n",
    "\n",
    "def label_outliers(nasa_df_row):\n",
    "    if nasa_df_row['class'] == 1 :\n",
    "        return 0\n",
    "    else :\n",
    "        return 1\n",
    "    \n",
    "def cleanup() :\n",
    "    colnames =['time', 'a1', 'a2', 'a3', 'a4', 'a5', 'a6', 'a7', 'a8', 'class']\n",
    "    train_df = pd.read_csv(\"data/nasa/shuttle.trn\",names=colnames,sep=\" \")\n",
    "    test_df = pd.read_csv(\"data/nasa/shuttle.tst\",names=colnames,sep=\" \")\n",
    "\n",
    "    # merge train and test\n",
    "    merged_df = pd.concat([train_df, test_df])\n",
    "    # print(\"Unique classes {}\".format(np.unique(merged_df['class'].values, return_counts=True)))\n",
    "\n",
    "    # drop class = 4\n",
    "    minus4_df = merged_df.loc[merged_df['class'] != 4]\n",
    "    # print(\"Frame after dropping 4 \\n{}\".format(minus4_df))\n",
    "    # print(\"Unique classes after dropping 4 {}\".format(np.unique(minus4_df['class'].values, return_counts=True)))\n",
    "\n",
    "    # mark class 1 as inlier and rest as outlier\n",
    "    global is_anomaly_column\n",
    "    is_anomaly_column = minus4_df.apply(lambda row: label_outliers(row), axis=1)\n",
    "    labelled_df = minus4_df.assign(is_anomaly=is_anomaly_column.values)\n",
    "\n",
    "    #print(\"Frame after labelling outliers \\n{}\".format(labelled_df))\n",
    "    print(\"Unique classes after labelling outliers {}\".format(np.unique(labelled_df['class'].values, return_counts=True)))\n",
    "    print(\"Unique outliers after labelling outliers {}\".format(np.unique(labelled_df['is_anomaly'].values, return_counts=True)))\n",
    "\n",
    "    # sort by time\n",
    "\n",
    "    sorted_df = labelled_df.sort_values('time')\n",
    "\n",
    "    #print(\"Sorted Frame\\n{}\".format(sorted_df))\n",
    "    \n",
    "    return sorted_df\n",
    "\n",
    "def read_data_with_labels(df, timeVariantColumns, labelColumnNum):\n",
    "#     df = pd.read_csv(file)\n",
    "    data = df.values.astype('float64')\n",
    "    tsData = df[timeVariantColumns].values.astype('float64')\n",
    "    print(\"tsData shape \", tsData.shape)\n",
    "    labels = data[:, labelColumnNum].reshape((-1,1))\n",
    "    print(\"Labels shape \", labels.shape)\n",
    "    tsDataWithLabels = np.hstack((tsData, labels))\n",
    "    return tsDataWithLabels, data\n",
    "\n",
    "def scale(data):\n",
    "    scaler = MinMaxScaler(feature_range=(0,1))\n",
    "    scaler.fit(data)\n",
    "    return scaler, scaler.transform(data)"
   ]
  },
  {
   "cell_type": "code",
   "execution_count": 33,
   "metadata": {},
   "outputs": [],
   "source": [
    "def createColumnDict(columnNames):\n",
    "    \"\"\"\n",
    "    Generates a dictionary which contains a mapping between column names to the target column names\n",
    "    \n",
    "    columnNames - current names of the columns\n",
    "    \n",
    "    return a dictionary which contains a mapping between column names\n",
    "            Ex: [\"timestamp\", \"value\", \"is_anomaly\"]\n",
    "            {\"timestamp\": \"timestamp_y\", \"value\": \"value_y\", \"is_anomaly\": \"is_anomaly_y\"}\n",
    "    \"\"\"\n",
    "    \n",
    "    dict = {}\n",
    "    for name in columnNames:\n",
    "        dict[name] = name + \"_current\"\n",
    "    \n",
    "    return dict"
   ]
  },
  {
   "cell_type": "code",
   "execution_count": 34,
   "metadata": {},
   "outputs": [],
   "source": [
    "def get_deviations_mv(model, X, Y):\n",
    "    deviations = np.absolute(Y - model.predict(X))\n",
    "    #print(\"Deviations Mins {}, Maxes {}\".format(np.amin(deviations, axis=0), np.amax(deviations, axis=0)))    \n",
    "    #print(\"Shape of deviations \", deviations.shape)\n",
    "    return deviations\n",
    "\n",
    "def get_records_above_deviation_pctile_mv(model, X, Y, pctile=95):\n",
    "    deviations = get_deviations_mv(model, X, Y) # n_samples x n_features\n",
    "    pctileDeviations = np.percentile(deviations, q=pctile, axis=0) # 1 x n_features\n",
    "    #print(\"Deviations {}th pctiles {}\".format(pctile, pctileDeviations ))\n",
    "    \n",
    "    deviations_above_threshold = deviations > pctileDeviations # n_samples x n_features\n",
    "    #print(\"Shape of deviations above threshold matrix {}\".format(deviations_above_threshold.shape))\n",
    "\n",
    "    predicted_labels = np.ndarray((deviations.shape[0], 1)) # n_samples x 1\n",
    "    #print(\"Predicted_labels shape \", predicted_labels.shape)\n",
    "    predicted_labels_ref = deviations_above_threshold.any(axis = 1)\n",
    "    #print(\"Any feature deviation > its {}th pctile deviation based is_anomaly labels {}\"\n",
    "    #     .format(pctile, np.unique(predicted_labels_ref, return_counts = True)))\n",
    "    return predicted_labels_ref\n",
    "    \n",
    "def get_classification_metrics(actual, predicted):\n",
    "    return confusion_matrix(actual, predicted), precision_score(actual, predicted), \\\n",
    "    recall_score(actual, predicted), f1_score(actual, predicted)"
   ]
  },
  {
   "cell_type": "code",
   "execution_count": 35,
   "metadata": {},
   "outputs": [],
   "source": [
    "def generate_dataframe_with_sliding_window(sliding_window, df, anomaly_col_name):\n",
    "    \"\"\"\n",
    "    \n",
    "    \"\"\"\n",
    "    dataframes = []\n",
    "    original_df = df.copy(deep=True)\n",
    "    original_df = original_df.drop([anomaly_col_name], axis=1)\n",
    "    for i in range(1,sliding_window+1):\n",
    "        copied = original_df\n",
    "        \n",
    "        for j in range(1, i+1):\n",
    "            copied = copied.append(pd.Series(), ignore_index=True)\n",
    "        copied = copied.shift(i)\n",
    "        dataframes.append(copied)\n",
    "    \n",
    "    df_merged = reduce(lambda left,right: right.merge(left,left_index=True,right_index=True), dataframes)\n",
    "    return df_merged"
   ]
  },
  {
   "cell_type": "code",
   "execution_count": 36,
   "metadata": {},
   "outputs": [],
   "source": [
    "def fit_train_eval_model(X_train, Y_train, X_test, Y_test, outlier_df, pctile, sliding_window):\n",
    "    # When using without pipeline, put estimator__ before parameters\n",
    "    param_grid = {'estimator__epsilon':[0.2, 0.3, 0.4, 0.5],\n",
    "                  'estimator__C':[1, 25, 50],\n",
    "                  'estimator__gamma':['scale', 'auto']}\n",
    "\n",
    "    svm_clf = SVR(kernel='rbf')\n",
    "    gs = GridSearchCV(MultiOutputRegressor(svm_clf), param_grid=param_grid, cv=2, scoring = 'neg_mean_squared_error', n_jobs=-1, return_train_score=True)\n",
    "    gs.fit(X_train,Y_train)\n",
    "    \n",
    "    best_est = gs.best_estimator_\n",
    "    best_params = gs.best_params_\n",
    "    \n",
    "    modeldir = 'model-shuttle-svr'\n",
    "    if not os.path.exists(modeldir):\n",
    "        os.makedirs(modeldir)\n",
    "        \n",
    "    modelpath = modeldir + '/sliding_window_' + str(sliding_window) + '_' + str(pctile) +'%.pkl'\n",
    "    # save the best model\n",
    "    with open(modelpath, 'wb') as file:\n",
    "        print(\"Saving file \", file)\n",
    "        pickle.dump(best_est, file)\n",
    "    \n",
    "    # get deviations for whole dataset and id records with deviations > pctile threshold and asign an is_anomaly label\n",
    "    predictedAnomalyLabels = get_records_above_deviation_pctile_mv(best_est, X_test, Y_test, pctile)\n",
    "\n",
    "    #print(\"Shape of predicted labels {}\".format(predictedAnomalyLabels.shape))\n",
    "\n",
    "    # outlier_df has the actual anomalies\n",
    "    #print(\"Actual is_anomaly labels in data\", np.unique(outlier_df, return_counts = True))\n",
    "\n",
    "    # Compare calculated labels and actual labels to find confusion matrix, precision, recall, and F1\n",
    "    conf_matrix, prec, recall, f1 = get_classification_metrics(np.ravel(outlier_df), predictedAnomalyLabels)\n",
    "    #print(\"Confusion matrix \\n{0}\\nprecision {1:.5f}, recall {2:.5f}, f1 {3:.5f}\".format(conf_matrix, prec, recall, f1))\n",
    "    \n",
    "    return best_params, conf_matrix, prec, recall, f1\n",
    "    "
   ]
  },
  {
   "cell_type": "code",
   "execution_count": 37,
   "metadata": {},
   "outputs": [],
   "source": [
    "# plotting the results for a threshold of 99.5% over 24 sliding windows\n",
    "def plot_and_tabulate(results_dict):\n",
    "    precision_list = []\n",
    "    recall_list = []\n",
    "    f1_score_list = []\n",
    "    best_estimators = []\n",
    "\n",
    "    for h in results_dict:\n",
    "        results = results_dict[h]\n",
    "        est_params = results[0]\n",
    "        l1 = []\n",
    "        l1.append(h)\n",
    "        l1.append(est_params['estimator__C'])\n",
    "        l1.append(est_params['estimator__epsilon'])\n",
    "        l1.append(est_params['estimator__gamma'])\n",
    "\n",
    "        best_estimators.append(l1)\n",
    "        precision_list.append(results[2])\n",
    "        recall_list.append(results[3])\n",
    "        f1_score_list.append(results[4])\n",
    "\n",
    "    x_tick_labels = list(results_dict.keys())\n",
    "\n",
    "    fig, ax = plt.subplots(3, figsize=(10, 10))\n",
    "    fig.subplots_adjust(hspace=0.7, wspace=0.7)\n",
    "\n",
    "    ax[0].set_title('Precision')\n",
    "    ax[0].set_xlabel('sliding window')\n",
    "    ax[0].set_ylabel('Precision')\n",
    "    # ax[0].set_xticklabels(x_tick_labels)\n",
    "    ax[0].plot(x_tick_labels,precision_list)\n",
    "\n",
    "    ax[1].set_title('Recall')\n",
    "    ax[1].set_xlabel('sliding window')\n",
    "    ax[1].set_ylabel('Recall')\n",
    "    # ax[1].set_xticklabels(x_tick_labels)\n",
    "    ax[1].plot(x_tick_labels,recall_list)\n",
    "\n",
    "    ax[2].set_title('F1-score')\n",
    "    ax[2].set_xlabel('sliding window')\n",
    "    ax[2].set_ylabel('F1-score')\n",
    "    # ax[2].set_xticklabels(x_tick_labels)\n",
    "    ax[2].plot(x_tick_labels,f1_score_list)\n",
    "\n",
    "    plt.show()\n",
    "    \n",
    "    table1 = tabulate(best_estimators, headers=['Sliding Window Size', 'C', 'epsilon', 'gamma' ], tablefmt='orgtbl')\n",
    "    print(table1)"
   ]
  },
  {
   "cell_type": "code",
   "execution_count": 38,
   "metadata": {},
   "outputs": [
    {
     "name": "stdout",
     "output_type": "stream",
     "text": [
      "Unique classes after labelling outliers (array([1, 2, 3, 5, 6, 7]), array([45586,    50,   171,  3267,    10,    13]))\n",
      "Unique outliers after labelling outliers (array([0, 1]), array([45586,  3511]))\n",
      "tsData shape  (49097, 8)\n",
      "Labels shape  (49097, 1)\n"
     ]
    }
   ],
   "source": [
    "split = 0.8\n",
    "sliding_window = 24\n",
    "learning_rate = 0.001\n",
    "cv = 3\n",
    "pctile = 95.0\n",
    "anomaly_col_name = 'is_anomaly'\n",
    "\n",
    "sorted_df = cleanup()\n",
    "\n",
    "timeVariantColumns = ['a1', 'a2', 'a3', 'a4', 'a5', 'a6', 'a7', 'a8']\n",
    "labelColumnNum = 10\n",
    "\n",
    "# read data\n",
    "tsDataWithLabels, data = read_data_with_labels(sorted_df, timeVariantColumns, labelColumnNum)\n",
    "\n",
    "# scale data\n",
    "scaler, tsDataScaled = scale(tsDataWithLabels)\n",
    "\n",
    "#create the dataframe\n",
    "df_original = pd.DataFrame(data=tsDataScaled, columns=['a1', 'a2', 'a3', 'a4', 'a5', 'a6', 'a7', 'a8', 'is_anomaly'])"
   ]
  },
  {
   "cell_type": "code",
   "execution_count": 39,
   "metadata": {},
   "outputs": [],
   "source": [
    "def run_job(sliding_window, pctile, df_original, anomaly_col_name):\n",
    "\n",
    "    results_dict = {}\n",
    "\n",
    "    for k in range(1, sliding_window+1):\n",
    "\n",
    "        print(\"In iteration \", k)\n",
    "        df = df_original.copy(deep=True)\n",
    "        # This is the time series dataset made according to a sliding window.\n",
    "        # This doesn't contain the current/actual values \n",
    "        merged_new = generate_dataframe_with_sliding_window(k, df_original, anomaly_col_name)\n",
    "        df = df.append(pd.Series(), ignore_index=True)\n",
    "        columnNames = df.columns\n",
    "        df = df.rename(columns=createColumnDict(columnNames))\n",
    "        merged_final = merged_new.merge(df, left_index=True, right_index=True)\n",
    "\n",
    "        # drop rows which have NaN values. There will be k number of rows at the top with NaN values\n",
    "        indexes_to_drop = []\n",
    "        for i in range(0, k):\n",
    "            indexes_to_drop.append(i)\n",
    "\n",
    "        # last row will also have a NaN value\n",
    "        last_index = merged_new.shape[0] - 1\n",
    "        indexes_to_drop.append(last_index)\n",
    "        merged_final = merged_final.drop(indexes_to_drop)\n",
    "\n",
    "        # anomaly column name was also modified previously, hence the new name\n",
    "        modified_anomaly_col_name = anomaly_col_name + \"_current\"\n",
    "\n",
    "        Y_columns = list(df.columns)\n",
    "        Y_columns.remove(modified_anomaly_col_name)\n",
    "        X_columns = merged_new.columns\n",
    "\n",
    "        # split the dataset into training and testing\n",
    "        train_size = int(len(merged_final) * 0.8)\n",
    "        train_set, test_set = merged_final[:train_size],merged_final[train_size:]\n",
    "\n",
    "        #seperate into features and target\n",
    "        X_train = train_set[X_columns]\n",
    "        Y_train = train_set[Y_columns]\n",
    "        X_test = test_set[X_columns]\n",
    "        Y_test = test_set[Y_columns]\n",
    "\n",
    "        # outlier_y column is not needed for forecasting, but needed later to detect outliers\n",
    "        outlier_df = test_set[[modified_anomaly_col_name]]\n",
    "\n",
    "        results = fit_train_eval_model(X_train, Y_train, X_test, Y_test, outlier_df, pctile, k)\n",
    "\n",
    "        # save the results in a dictionary\n",
    "        results_dict[k] = results\n",
    "    \n",
    "    return results_dict"
   ]
  },
  {
   "cell_type": "code",
   "execution_count": 41,
   "metadata": {},
   "outputs": [
    {
     "name": "stdout",
     "output_type": "stream",
     "text": [
      "In iteration  1\n",
      "Saving file  <_io.BufferedWriter name='model-shuttle-lstm/sliding_window_1_99.5%.pkl'>\n",
      "In iteration  2\n",
      "Saving file  <_io.BufferedWriter name='model-shuttle-lstm/sliding_window_2_99.5%.pkl'>\n",
      "In iteration  3\n",
      "Saving file  <_io.BufferedWriter name='model-shuttle-lstm/sliding_window_3_99.5%.pkl'>\n",
      "In iteration  4\n",
      "Saving file  <_io.BufferedWriter name='model-shuttle-lstm/sliding_window_4_99.5%.pkl'>\n",
      "In iteration  5\n",
      "Saving file  <_io.BufferedWriter name='model-shuttle-lstm/sliding_window_5_99.5%.pkl'>\n",
      "In iteration  6\n",
      "Saving file  <_io.BufferedWriter name='model-shuttle-lstm/sliding_window_6_99.5%.pkl'>\n",
      "In iteration  7\n",
      "Saving file  <_io.BufferedWriter name='model-shuttle-lstm/sliding_window_7_99.5%.pkl'>\n",
      "In iteration  8\n",
      "Saving file  <_io.BufferedWriter name='model-shuttle-lstm/sliding_window_8_99.5%.pkl'>\n",
      "In iteration  9\n",
      "Saving file  <_io.BufferedWriter name='model-shuttle-lstm/sliding_window_9_99.5%.pkl'>\n",
      "In iteration  10\n",
      "Saving file  <_io.BufferedWriter name='model-shuttle-lstm/sliding_window_10_99.5%.pkl'>\n",
      "In iteration  11\n",
      "Saving file  <_io.BufferedWriter name='model-shuttle-lstm/sliding_window_11_99.5%.pkl'>\n",
      "In iteration  12\n",
      "Saving file  <_io.BufferedWriter name='model-shuttle-lstm/sliding_window_12_99.5%.pkl'>\n",
      "In iteration  13\n",
      "Saving file  <_io.BufferedWriter name='model-shuttle-lstm/sliding_window_13_99.5%.pkl'>\n",
      "In iteration  14\n",
      "Saving file  <_io.BufferedWriter name='model-shuttle-lstm/sliding_window_14_99.5%.pkl'>\n",
      "In iteration  15\n",
      "Saving file  <_io.BufferedWriter name='model-shuttle-lstm/sliding_window_15_99.5%.pkl'>\n",
      "In iteration  16\n",
      "Saving file  <_io.BufferedWriter name='model-shuttle-lstm/sliding_window_16_99.5%.pkl'>\n",
      "In iteration  17\n",
      "Saving file  <_io.BufferedWriter name='model-shuttle-lstm/sliding_window_17_99.5%.pkl'>\n",
      "In iteration  18\n",
      "Saving file  <_io.BufferedWriter name='model-shuttle-lstm/sliding_window_18_99.5%.pkl'>\n",
      "In iteration  19\n",
      "Saving file  <_io.BufferedWriter name='model-shuttle-lstm/sliding_window_19_99.5%.pkl'>\n",
      "In iteration  20\n",
      "Saving file  <_io.BufferedWriter name='model-shuttle-lstm/sliding_window_20_99.5%.pkl'>\n",
      "In iteration  21\n",
      "Saving file  <_io.BufferedWriter name='model-shuttle-lstm/sliding_window_21_99.5%.pkl'>\n",
      "In iteration  22\n",
      "Saving file  <_io.BufferedWriter name='model-shuttle-lstm/sliding_window_22_99.5%.pkl'>\n",
      "In iteration  23\n",
      "Saving file  <_io.BufferedWriter name='model-shuttle-lstm/sliding_window_23_99.5%.pkl'>\n",
      "In iteration  24\n",
      "Saving file  <_io.BufferedWriter name='model-shuttle-lstm/sliding_window_24_99.5%.pkl'>\n"
     ]
    }
   ],
   "source": [
    "dictionary1 = run_job(sliding_window = 24, pctile = 99.5, df_original = df_original, anomaly_col_name = anomaly_col_name)"
   ]
  },
  {
   "cell_type": "code",
   "execution_count": 42,
   "metadata": {},
   "outputs": [],
   "source": [
    "f = open(\"multivariate_results/sliding_window_24_1.pkl\",\"wb\")\n",
    "pickle.dump(dictionary1,f)\n",
    "f.close()"
   ]
  },
  {
   "cell_type": "code",
   "execution_count": 43,
   "metadata": {},
   "outputs": [
    {
     "data": {
      "image/png": "[encoded data removed]",
      "text/plain": [
       "<Figure size 720x720 with 3 Axes>"
      ]
     },
     "metadata": {
      "needs_background": "light"
     },
     "output_type": "display_data"
    },
    {
     "name": "stdout",
     "output_type": "stream",
     "text": [
      "|   Sliding Window Size |   C |   epsilon | gamma   |\n",
      "|-----------------------+-----+-----------+---------|\n",
      "|                     1 |   1 |       0.2 | auto    |\n",
      "|                     2 |   1 |       0.2 | auto    |\n",
      "|                     3 |   1 |       0.2 | auto    |\n",
      "|                     4 |  50 |       0.2 | scale   |\n",
      "|                     5 |  25 |       0.2 | scale   |\n",
      "|                     6 |  25 |       0.2 | scale   |\n",
      "|                     7 |  25 |       0.2 | scale   |\n",
      "|                     8 |  25 |       0.2 | scale   |\n",
      "|                     9 |  50 |       0.2 | scale   |\n",
      "|                    10 |  25 |       0.2 | scale   |\n",
      "|                    11 |  25 |       0.2 | scale   |\n",
      "|                    12 |  25 |       0.2 | scale   |\n",
      "|                    13 |  25 |       0.2 | scale   |\n",
      "|                    14 |  25 |       0.2 | scale   |\n",
      "|                    15 |  25 |       0.2 | scale   |\n",
      "|                    16 |  25 |       0.2 | scale   |\n",
      "|                    17 |  25 |       0.2 | scale   |\n",
      "|                    18 |  25 |       0.2 | scale   |\n",
      "|                    19 |  25 |       0.2 | scale   |\n",
      "|                    20 |  25 |       0.2 | scale   |\n",
      "|                    21 |  25 |       0.2 | scale   |\n",
      "|                    22 |  25 |       0.2 | scale   |\n",
      "|                    23 |  25 |       0.2 | scale   |\n",
      "|                    24 |  25 |       0.2 | scale   |\n"
     ]
    }
   ],
   "source": [
    "# this is the results file for 99.5% threshold\n",
    "# input_file1 = open(\"multivariate_results/sliding_window_24_1.pkl\",\"rb\")\n",
    "# dictionary1 = pickle.load(input_file1)\n",
    "plot_and_tabulate(dictionary1)"
   ]
  },
  {
   "cell_type": "code",
   "execution_count": 44,
   "metadata": {},
   "outputs": [
    {
     "data": {
      "text/plain": [
       "({'estimator__C': 1, 'estimator__epsilon': 0.2, 'estimator__gamma': 'auto'},\n",
       " array([[6402,   61],\n",
       "        [3134,  222]]),\n",
       " 0.784452296819788,\n",
       " 0.06615017878426699,\n",
       " 0.12201154163231658)"
      ]
     },
     "execution_count": 44,
     "metadata": {},
     "output_type": "execute_result"
    }
   ],
   "source": [
    "dictionary1[2]"
   ]
  },
  {
   "cell_type": "code",
   "execution_count": 45,
   "metadata": {},
   "outputs": [
    {
     "data": {
      "text/plain": [
       "({'estimator__C': 50, 'estimator__epsilon': 0.2, 'estimator__gamma': 'scale'},\n",
       " array([[6359,  103],\n",
       "        [3137,  219]]),\n",
       " 0.6801242236024845,\n",
       " 0.06525625744934446,\n",
       " 0.11908646003262643)"
      ]
     },
     "execution_count": 45,
     "metadata": {},
     "output_type": "execute_result"
    }
   ],
   "source": [
    "dictionary1[9]"
   ]
  },
  {
   "cell_type": "markdown",
   "metadata": {},
   "source": [
    "### Running the job 24 sliding windows with 95.0 percentile threshold"
   ]
  },
  {
   "cell_type": "code",
   "execution_count": 46,
   "metadata": {},
   "outputs": [
    {
     "name": "stdout",
     "output_type": "stream",
     "text": [
      "In iteration  1\n",
      "Saving file  <_io.BufferedWriter name='model-shuttle-lstm/sliding_window_1_95.0%.pkl'>\n",
      "In iteration  2\n",
      "Saving file  <_io.BufferedWriter name='model-shuttle-lstm/sliding_window_2_95.0%.pkl'>\n",
      "In iteration  3\n",
      "Saving file  <_io.BufferedWriter name='model-shuttle-lstm/sliding_window_3_95.0%.pkl'>\n",
      "In iteration  4\n",
      "Saving file  <_io.BufferedWriter name='model-shuttle-lstm/sliding_window_4_95.0%.pkl'>\n",
      "In iteration  5\n",
      "Saving file  <_io.BufferedWriter name='model-shuttle-lstm/sliding_window_5_95.0%.pkl'>\n",
      "In iteration  6\n",
      "Saving file  <_io.BufferedWriter name='model-shuttle-lstm/sliding_window_6_95.0%.pkl'>\n",
      "In iteration  7\n",
      "Saving file  <_io.BufferedWriter name='model-shuttle-lstm/sliding_window_7_95.0%.pkl'>\n",
      "In iteration  8\n",
      "Saving file  <_io.BufferedWriter name='model-shuttle-lstm/sliding_window_8_95.0%.pkl'>\n",
      "In iteration  9\n",
      "Saving file  <_io.BufferedWriter name='model-shuttle-lstm/sliding_window_9_95.0%.pkl'>\n",
      "In iteration  10\n",
      "Saving file  <_io.BufferedWriter name='model-shuttle-lstm/sliding_window_10_95.0%.pkl'>\n",
      "In iteration  11\n",
      "Saving file  <_io.BufferedWriter name='model-shuttle-lstm/sliding_window_11_95.0%.pkl'>\n",
      "In iteration  12\n",
      "Saving file  <_io.BufferedWriter name='model-shuttle-lstm/sliding_window_12_95.0%.pkl'>\n",
      "In iteration  13\n",
      "Saving file  <_io.BufferedWriter name='model-shuttle-lstm/sliding_window_13_95.0%.pkl'>\n",
      "In iteration  14\n",
      "Saving file  <_io.BufferedWriter name='model-shuttle-lstm/sliding_window_14_95.0%.pkl'>\n",
      "In iteration  15\n",
      "Saving file  <_io.BufferedWriter name='model-shuttle-lstm/sliding_window_15_95.0%.pkl'>\n",
      "In iteration  16\n",
      "Saving file  <_io.BufferedWriter name='model-shuttle-lstm/sliding_window_16_95.0%.pkl'>\n",
      "In iteration  17\n",
      "Saving file  <_io.BufferedWriter name='model-shuttle-lstm/sliding_window_17_95.0%.pkl'>\n",
      "In iteration  18\n",
      "Saving file  <_io.BufferedWriter name='model-shuttle-lstm/sliding_window_18_95.0%.pkl'>\n",
      "In iteration  19\n",
      "Saving file  <_io.BufferedWriter name='model-shuttle-lstm/sliding_window_19_95.0%.pkl'>\n",
      "In iteration  20\n",
      "Saving file  <_io.BufferedWriter name='model-shuttle-lstm/sliding_window_20_95.0%.pkl'>\n",
      "In iteration  21\n",
      "Saving file  <_io.BufferedWriter name='model-shuttle-lstm/sliding_window_21_95.0%.pkl'>\n",
      "In iteration  22\n",
      "Saving file  <_io.BufferedWriter name='model-shuttle-lstm/sliding_window_22_95.0%.pkl'>\n",
      "In iteration  23\n",
      "Saving file  <_io.BufferedWriter name='model-shuttle-lstm/sliding_window_23_95.0%.pkl'>\n",
      "In iteration  24\n",
      "Saving file  <_io.BufferedWriter name='model-shuttle-lstm/sliding_window_24_95.0%.pkl'>\n"
     ]
    }
   ],
   "source": [
    "dictionary2 = run_job(sliding_window = 24, pctile = 95.0, df_original = df_original, anomaly_col_name = anomaly_col_name)"
   ]
  },
  {
   "cell_type": "code",
   "execution_count": null,
   "metadata": {},
   "outputs": [],
   "source": [
    "f = open(\"multivariate_results/sliding_window_24_2.pkl\",\"wb\")\n",
    "pickle.dump(dictionary2,f)\n",
    "f.close()"
   ]
  },
  {
   "cell_type": "code",
   "execution_count": 16,
   "metadata": {},
   "outputs": [
    {
     "data": {
      "image/png": "[encoded data removed]",
      "text/plain": [
       "<Figure size 720x720 with 3 Axes>"
      ]
     },
     "metadata": {
      "needs_background": "light"
     },
     "output_type": "display_data"
    },
    {
     "name": "stdout",
     "output_type": "stream",
     "text": [
      "|   Sliding Window Size |   C |   epsilon | gamma   |\n",
      "|-----------------------+-----+-----------+---------|\n",
      "|                     1 |   1 |       0.2 | auto    |\n",
      "|                     2 |   1 |       0.2 | auto    |\n",
      "|                     3 |   1 |       0.2 | auto    |\n",
      "|                     4 |  50 |       0.2 | scale   |\n",
      "|                     5 |  25 |       0.2 | scale   |\n",
      "|                     6 |  25 |       0.2 | scale   |\n",
      "|                     7 |  25 |       0.2 | scale   |\n",
      "|                     8 |  25 |       0.2 | scale   |\n",
      "|                     9 |  50 |       0.2 | scale   |\n",
      "|                    10 |  25 |       0.2 | scale   |\n",
      "|                    11 |  25 |       0.2 | scale   |\n",
      "|                    12 |  25 |       0.2 | scale   |\n",
      "|                    13 |  25 |       0.2 | scale   |\n",
      "|                    14 |  25 |       0.2 | scale   |\n",
      "|                    15 |  25 |       0.2 | scale   |\n",
      "|                    16 |  25 |       0.2 | scale   |\n",
      "|                    17 |  25 |       0.2 | scale   |\n",
      "|                    18 |  25 |       0.2 | scale   |\n",
      "|                    19 |  25 |       0.2 | scale   |\n",
      "|                    20 |  25 |       0.2 | scale   |\n",
      "|                    21 |  25 |       0.2 | scale   |\n",
      "|                    22 |  25 |       0.2 | scale   |\n",
      "|                    23 |  25 |       0.2 | scale   |\n",
      "|                    24 |  25 |       0.2 | scale   |\n"
     ]
    }
   ],
   "source": [
    "# this is the results file for 95.0% threshold\n",
    "# input_file2 = open(\"sliding_window_24_2.pkl\",\"rb\")\n",
    "# dictionary2= pickle.load(input_file2)\n",
    "plot_and_tabulate(dictionary2)"
   ]
  },
  {
   "cell_type": "code",
   "execution_count": 19,
   "metadata": {},
   "outputs": [
    {
     "data": {
      "text/plain": [
       "({'estimator__C': 1, 'estimator__epsilon': 0.2, 'estimator__gamma': 'auto'},\n",
       " array([[5867,  596],\n",
       "        [1733, 1623]]),\n",
       " 0.7314105452906715,\n",
       " 0.483611442193087,\n",
       " 0.5822421524663678)"
      ]
     },
     "execution_count": 19,
     "metadata": {},
     "output_type": "execute_result"
    }
   ],
   "source": [
    "dictionary2[2]"
   ]
  },
  {
   "cell_type": "code",
   "execution_count": 20,
   "metadata": {},
   "outputs": [
    {
     "data": {
      "text/plain": [
       "({'estimator__C': 25, 'estimator__epsilon': 0.2, 'estimator__gamma': 'scale'},\n",
       " array([[5261, 1201],\n",
       "        [1730, 1626]]),\n",
       " 0.5751680226388397,\n",
       " 0.48450536352800955,\n",
       " 0.5259582726831635)"
      ]
     },
     "execution_count": 20,
     "metadata": {},
     "output_type": "execute_result"
    }
   ],
   "source": [
    "dictionary2[8]"
   ]
  },
  {
   "cell_type": "code",
   "execution_count": null,
   "metadata": {},
   "outputs": [],
   "source": []
  }
 ],
 "metadata": {
  "kernelspec": {
   "display_name": "Python 3",
   "language": "python",
   "name": "python3"
  },
  "language_info": {
   "codemirror_mode": {
    "name": "ipython",
    "version": 3
   },
   "file_extension": ".py",
   "mimetype": "text/x-python",
   "name": "python",
   "nbconvert_exporter": "python",
   "pygments_lexer": "ipython3",
   "version": "3.8.6"
  }
 },
 "nbformat": 4,
 "nbformat_minor": 2
}
