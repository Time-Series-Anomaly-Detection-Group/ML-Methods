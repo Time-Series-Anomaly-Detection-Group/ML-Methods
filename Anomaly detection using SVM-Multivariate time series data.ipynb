{
 "cells": [
  {
   "cell_type": "markdown",
   "metadata": {},
   "source": [
    "# Anomaly Record Detection in Sequence Data using Support Vector Machines -  NASA Data (Multivariate)"
   ]
  },
  {
   "cell_type": "code",
   "execution_count": 1,
   "metadata": {},
   "outputs": [],
   "source": [
    "import pandas as pd\n",
    "import numpy as np\n",
    "import sklearn\n",
    "from sklearn.multioutput import MultiOutputRegressor\n",
    "import matplotlib.pyplot as plt\n",
    "from sklearn.svm import SVR\n",
    "from sklearn.metrics import accuracy_score, precision_score, recall_score, f1_score\n",
    "\n",
    "%matplotlib inline\n"
   ]
  },
  {
   "cell_type": "code",
   "execution_count": 2,
   "metadata": {},
   "outputs": [],
   "source": [
    "# Read in NASA dataset (multivariate)\n",
    "nasa_original = pd.read_csv('data/nasa/clean-std-norm-nasa.csv')"
   ]
  },
  {
   "cell_type": "code",
   "execution_count": 3,
   "metadata": {},
   "outputs": [
    {
     "data": {
      "text/html": [
       "<div>\n",
       "<style scoped>\n",
       "    .dataframe tbody tr th:only-of-type {\n",
       "        vertical-align: middle;\n",
       "    }\n",
       "\n",
       "    .dataframe tbody tr th {\n",
       "        vertical-align: top;\n",
       "    }\n",
       "\n",
       "    .dataframe thead th {\n",
       "        text-align: right;\n",
       "    }\n",
       "</style>\n",
       "<table border=\"1\" class=\"dataframe\">\n",
       "  <thead>\n",
       "    <tr style=\"text-align: right;\">\n",
       "      <th></th>\n",
       "      <th>time</th>\n",
       "      <th>time.1</th>\n",
       "      <th>Rad Flow</th>\n",
       "      <th>Fpv Close</th>\n",
       "      <th>Fpv Open</th>\n",
       "      <th>High</th>\n",
       "      <th>Bypass</th>\n",
       "      <th>Bpv Open</th>\n",
       "      <th>Bpv Close</th>\n",
       "      <th>class</th>\n",
       "      <th>outlier</th>\n",
       "    </tr>\n",
       "  </thead>\n",
       "  <tbody>\n",
       "    <tr>\n",
       "      <th>0</th>\n",
       "      <td>-4821</td>\n",
       "      <td>-4821</td>\n",
       "      <td>0.437500</td>\n",
       "      <td>0.507015</td>\n",
       "      <td>0.333333</td>\n",
       "      <td>0.638093</td>\n",
       "      <td>0.575163</td>\n",
       "      <td>0.656501</td>\n",
       "      <td>0.598071</td>\n",
       "      <td>7</td>\n",
       "      <td>1</td>\n",
       "    </tr>\n",
       "    <tr>\n",
       "      <th>1</th>\n",
       "      <td>-4624</td>\n",
       "      <td>-4624</td>\n",
       "      <td>0.429688</td>\n",
       "      <td>0.507401</td>\n",
       "      <td>0.358974</td>\n",
       "      <td>0.638212</td>\n",
       "      <td>0.568627</td>\n",
       "      <td>0.630819</td>\n",
       "      <td>0.575563</td>\n",
       "      <td>7</td>\n",
       "      <td>1</td>\n",
       "    </tr>\n",
       "    <tr>\n",
       "      <th>2</th>\n",
       "      <td>-4475</td>\n",
       "      <td>-4475</td>\n",
       "      <td>0.664062</td>\n",
       "      <td>0.506500</td>\n",
       "      <td>0.349359</td>\n",
       "      <td>0.638522</td>\n",
       "      <td>0.764706</td>\n",
       "      <td>0.686998</td>\n",
       "      <td>0.581994</td>\n",
       "      <td>7</td>\n",
       "      <td>1</td>\n",
       "    </tr>\n",
       "    <tr>\n",
       "      <th>3</th>\n",
       "      <td>-4184</td>\n",
       "      <td>-4184</td>\n",
       "      <td>0.664062</td>\n",
       "      <td>0.512164</td>\n",
       "      <td>0.355769</td>\n",
       "      <td>0.637878</td>\n",
       "      <td>0.764706</td>\n",
       "      <td>0.682183</td>\n",
       "      <td>0.578778</td>\n",
       "      <td>7</td>\n",
       "      <td>1</td>\n",
       "    </tr>\n",
       "    <tr>\n",
       "      <th>4</th>\n",
       "      <td>-4048</td>\n",
       "      <td>-4048</td>\n",
       "      <td>0.656250</td>\n",
       "      <td>0.507015</td>\n",
       "      <td>0.358974</td>\n",
       "      <td>0.638117</td>\n",
       "      <td>0.758170</td>\n",
       "      <td>0.677368</td>\n",
       "      <td>0.572347</td>\n",
       "      <td>1</td>\n",
       "      <td>0</td>\n",
       "    </tr>\n",
       "  </tbody>\n",
       "</table>\n",
       "</div>"
      ],
      "text/plain": [
       "   time  time.1  Rad Flow  Fpv Close  Fpv Open      High    Bypass  Bpv Open  \\\n",
       "0 -4821   -4821  0.437500   0.507015  0.333333  0.638093  0.575163  0.656501   \n",
       "1 -4624   -4624  0.429688   0.507401  0.358974  0.638212  0.568627  0.630819   \n",
       "2 -4475   -4475  0.664062   0.506500  0.349359  0.638522  0.764706  0.686998   \n",
       "3 -4184   -4184  0.664062   0.512164  0.355769  0.637878  0.764706  0.682183   \n",
       "4 -4048   -4048  0.656250   0.507015  0.358974  0.638117  0.758170  0.677368   \n",
       "\n",
       "   Bpv Close  class  outlier  \n",
       "0   0.598071      7        1  \n",
       "1   0.575563      7        1  \n",
       "2   0.581994      7        1  \n",
       "3   0.578778      7        1  \n",
       "4   0.572347      1        0  "
      ]
     },
     "execution_count": 3,
     "metadata": {},
     "output_type": "execute_result"
    }
   ],
   "source": [
    "nasa_original.head()"
   ]
  },
  {
   "cell_type": "code",
   "execution_count": 4,
   "metadata": {},
   "outputs": [],
   "source": [
    "nasa_original = nasa_original.drop(['class', 'time.1'], axis=1)"
   ]
  },
  {
   "cell_type": "code",
   "execution_count": 5,
   "metadata": {},
   "outputs": [
    {
     "data": {
      "text/plain": [
       "(49097, 9)"
      ]
     },
     "execution_count": 5,
     "metadata": {},
     "output_type": "execute_result"
    }
   ],
   "source": [
    "nasa_original.shape"
   ]
  },
  {
   "cell_type": "code",
   "execution_count": 6,
   "metadata": {},
   "outputs": [],
   "source": [
    "nasa_org_copy = nasa_original.copy(deep=True)"
   ]
  },
  {
   "cell_type": "code",
   "execution_count": 7,
   "metadata": {
    "scrolled": true
   },
   "outputs": [
    {
     "name": "stderr",
     "output_type": "stream",
     "text": [
      "/Users/cresclux/anaconda3/lib/python3.7/site-packages/ipykernel_launcher.py:2: DeprecationWarning: The default dtype for empty Series will be 'object' instead of 'float64' in a future version. Specify a dtype explicitly to silence this warning.\n",
      "  \n"
     ]
    }
   ],
   "source": [
    "# first append a NaN row to the dataframe, because the last row will be lost when shifted\n",
    "nasa_org_copy = nasa_org_copy.append(pd.Series(), ignore_index=True)\n",
    "nasa_org_copy = nasa_org_copy.shift(1)"
   ]
  },
  {
   "cell_type": "code",
   "execution_count": 8,
   "metadata": {
    "scrolled": true
   },
   "outputs": [
    {
     "name": "stderr",
     "output_type": "stream",
     "text": [
      "/Users/cresclux/anaconda3/lib/python3.7/site-packages/ipykernel_launcher.py:1: DeprecationWarning: The default dtype for empty Series will be 'object' instead of 'float64' in a future version. Specify a dtype explicitly to silence this warning.\n",
      "  \"\"\"Entry point for launching an IPython kernel.\n"
     ]
    }
   ],
   "source": [
    "nasa_original = nasa_original.append(pd.Series(), ignore_index=True)"
   ]
  },
  {
   "cell_type": "code",
   "execution_count": 9,
   "metadata": {},
   "outputs": [],
   "source": [
    "nasa_original = nasa_original.rename(columns={\"time\": \"time_y\", \"Rad Flow\": \"Rad Flow_y\", \"Fpv Close\": \"Fpv Close_y\", \"Fpv Open\": \"Fpv Open_y\", \"High\": \"High_y\", \"Bypass\":\"Bypass_y\", \"Bpv Open\":\"Bpv Open_y\", \"Bpv Close\":\"Bpv Close_y\", \"outlier\":\"outlier_y\" })\n"
   ]
  },
  {
   "cell_type": "code",
   "execution_count": 10,
   "metadata": {},
   "outputs": [
    {
     "data": {
      "text/plain": [
       "(49098, 9)"
      ]
     },
     "execution_count": 10,
     "metadata": {},
     "output_type": "execute_result"
    }
   ],
   "source": [
    "nasa_original.shape"
   ]
  },
  {
   "cell_type": "code",
   "execution_count": 11,
   "metadata": {},
   "outputs": [
    {
     "data": {
      "text/plain": [
       "(49098, 9)"
      ]
     },
     "execution_count": 11,
     "metadata": {},
     "output_type": "execute_result"
    }
   ],
   "source": [
    "nasa_org_copy.shape"
   ]
  },
  {
   "cell_type": "code",
   "execution_count": 12,
   "metadata": {},
   "outputs": [
    {
     "data": {
      "text/html": [
       "<div>\n",
       "<style scoped>\n",
       "    .dataframe tbody tr th:only-of-type {\n",
       "        vertical-align: middle;\n",
       "    }\n",
       "\n",
       "    .dataframe tbody tr th {\n",
       "        vertical-align: top;\n",
       "    }\n",
       "\n",
       "    .dataframe thead th {\n",
       "        text-align: right;\n",
       "    }\n",
       "</style>\n",
       "<table border=\"1\" class=\"dataframe\">\n",
       "  <thead>\n",
       "    <tr style=\"text-align: right;\">\n",
       "      <th></th>\n",
       "      <th>time</th>\n",
       "      <th>Rad Flow</th>\n",
       "      <th>Fpv Close</th>\n",
       "      <th>Fpv Open</th>\n",
       "      <th>High</th>\n",
       "      <th>Bypass</th>\n",
       "      <th>Bpv Open</th>\n",
       "      <th>Bpv Close</th>\n",
       "      <th>outlier</th>\n",
       "    </tr>\n",
       "  </thead>\n",
       "  <tbody>\n",
       "    <tr>\n",
       "      <th>0</th>\n",
       "      <td>NaN</td>\n",
       "      <td>NaN</td>\n",
       "      <td>NaN</td>\n",
       "      <td>NaN</td>\n",
       "      <td>NaN</td>\n",
       "      <td>NaN</td>\n",
       "      <td>NaN</td>\n",
       "      <td>NaN</td>\n",
       "      <td>NaN</td>\n",
       "    </tr>\n",
       "    <tr>\n",
       "      <th>1</th>\n",
       "      <td>-4821.0</td>\n",
       "      <td>0.437500</td>\n",
       "      <td>0.507015</td>\n",
       "      <td>0.333333</td>\n",
       "      <td>0.638093</td>\n",
       "      <td>0.575163</td>\n",
       "      <td>0.656501</td>\n",
       "      <td>0.598071</td>\n",
       "      <td>1.0</td>\n",
       "    </tr>\n",
       "    <tr>\n",
       "      <th>2</th>\n",
       "      <td>-4624.0</td>\n",
       "      <td>0.429688</td>\n",
       "      <td>0.507401</td>\n",
       "      <td>0.358974</td>\n",
       "      <td>0.638212</td>\n",
       "      <td>0.568627</td>\n",
       "      <td>0.630819</td>\n",
       "      <td>0.575563</td>\n",
       "      <td>1.0</td>\n",
       "    </tr>\n",
       "    <tr>\n",
       "      <th>3</th>\n",
       "      <td>-4475.0</td>\n",
       "      <td>0.664062</td>\n",
       "      <td>0.506500</td>\n",
       "      <td>0.349359</td>\n",
       "      <td>0.638522</td>\n",
       "      <td>0.764706</td>\n",
       "      <td>0.686998</td>\n",
       "      <td>0.581994</td>\n",
       "      <td>1.0</td>\n",
       "    </tr>\n",
       "    <tr>\n",
       "      <th>4</th>\n",
       "      <td>-4184.0</td>\n",
       "      <td>0.664062</td>\n",
       "      <td>0.512164</td>\n",
       "      <td>0.355769</td>\n",
       "      <td>0.637878</td>\n",
       "      <td>0.764706</td>\n",
       "      <td>0.682183</td>\n",
       "      <td>0.578778</td>\n",
       "      <td>1.0</td>\n",
       "    </tr>\n",
       "  </tbody>\n",
       "</table>\n",
       "</div>"
      ],
      "text/plain": [
       "     time  Rad Flow  Fpv Close  Fpv Open      High    Bypass  Bpv Open  \\\n",
       "0     NaN       NaN        NaN       NaN       NaN       NaN       NaN   \n",
       "1 -4821.0  0.437500   0.507015  0.333333  0.638093  0.575163  0.656501   \n",
       "2 -4624.0  0.429688   0.507401  0.358974  0.638212  0.568627  0.630819   \n",
       "3 -4475.0  0.664062   0.506500  0.349359  0.638522  0.764706  0.686998   \n",
       "4 -4184.0  0.664062   0.512164  0.355769  0.637878  0.764706  0.682183   \n",
       "\n",
       "   Bpv Close  outlier  \n",
       "0        NaN      NaN  \n",
       "1   0.598071      1.0  \n",
       "2   0.575563      1.0  \n",
       "3   0.581994      1.0  \n",
       "4   0.578778      1.0  "
      ]
     },
     "execution_count": 12,
     "metadata": {},
     "output_type": "execute_result"
    }
   ],
   "source": [
    "nasa_org_copy.head()"
   ]
  },
  {
   "cell_type": "code",
   "execution_count": 13,
   "metadata": {},
   "outputs": [
    {
     "data": {
      "text/html": [
       "<div>\n",
       "<style scoped>\n",
       "    .dataframe tbody tr th:only-of-type {\n",
       "        vertical-align: middle;\n",
       "    }\n",
       "\n",
       "    .dataframe tbody tr th {\n",
       "        vertical-align: top;\n",
       "    }\n",
       "\n",
       "    .dataframe thead th {\n",
       "        text-align: right;\n",
       "    }\n",
       "</style>\n",
       "<table border=\"1\" class=\"dataframe\">\n",
       "  <thead>\n",
       "    <tr style=\"text-align: right;\">\n",
       "      <th></th>\n",
       "      <th>time_y</th>\n",
       "      <th>Rad Flow_y</th>\n",
       "      <th>Fpv Close_y</th>\n",
       "      <th>Fpv Open_y</th>\n",
       "      <th>High_y</th>\n",
       "      <th>Bypass_y</th>\n",
       "      <th>Bpv Open_y</th>\n",
       "      <th>Bpv Close_y</th>\n",
       "      <th>outlier_y</th>\n",
       "    </tr>\n",
       "  </thead>\n",
       "  <tbody>\n",
       "    <tr>\n",
       "      <th>0</th>\n",
       "      <td>-4821.0</td>\n",
       "      <td>0.437500</td>\n",
       "      <td>0.507015</td>\n",
       "      <td>0.333333</td>\n",
       "      <td>0.638093</td>\n",
       "      <td>0.575163</td>\n",
       "      <td>0.656501</td>\n",
       "      <td>0.598071</td>\n",
       "      <td>1.0</td>\n",
       "    </tr>\n",
       "    <tr>\n",
       "      <th>1</th>\n",
       "      <td>-4624.0</td>\n",
       "      <td>0.429688</td>\n",
       "      <td>0.507401</td>\n",
       "      <td>0.358974</td>\n",
       "      <td>0.638212</td>\n",
       "      <td>0.568627</td>\n",
       "      <td>0.630819</td>\n",
       "      <td>0.575563</td>\n",
       "      <td>1.0</td>\n",
       "    </tr>\n",
       "    <tr>\n",
       "      <th>2</th>\n",
       "      <td>-4475.0</td>\n",
       "      <td>0.664062</td>\n",
       "      <td>0.506500</td>\n",
       "      <td>0.349359</td>\n",
       "      <td>0.638522</td>\n",
       "      <td>0.764706</td>\n",
       "      <td>0.686998</td>\n",
       "      <td>0.581994</td>\n",
       "      <td>1.0</td>\n",
       "    </tr>\n",
       "    <tr>\n",
       "      <th>3</th>\n",
       "      <td>-4184.0</td>\n",
       "      <td>0.664062</td>\n",
       "      <td>0.512164</td>\n",
       "      <td>0.355769</td>\n",
       "      <td>0.637878</td>\n",
       "      <td>0.764706</td>\n",
       "      <td>0.682183</td>\n",
       "      <td>0.578778</td>\n",
       "      <td>1.0</td>\n",
       "    </tr>\n",
       "    <tr>\n",
       "      <th>4</th>\n",
       "      <td>-4048.0</td>\n",
       "      <td>0.656250</td>\n",
       "      <td>0.507015</td>\n",
       "      <td>0.358974</td>\n",
       "      <td>0.638117</td>\n",
       "      <td>0.758170</td>\n",
       "      <td>0.677368</td>\n",
       "      <td>0.572347</td>\n",
       "      <td>0.0</td>\n",
       "    </tr>\n",
       "  </tbody>\n",
       "</table>\n",
       "</div>"
      ],
      "text/plain": [
       "   time_y  Rad Flow_y  Fpv Close_y  Fpv Open_y    High_y  Bypass_y  \\\n",
       "0 -4821.0    0.437500     0.507015    0.333333  0.638093  0.575163   \n",
       "1 -4624.0    0.429688     0.507401    0.358974  0.638212  0.568627   \n",
       "2 -4475.0    0.664062     0.506500    0.349359  0.638522  0.764706   \n",
       "3 -4184.0    0.664062     0.512164    0.355769  0.637878  0.764706   \n",
       "4 -4048.0    0.656250     0.507015    0.358974  0.638117  0.758170   \n",
       "\n",
       "   Bpv Open_y  Bpv Close_y  outlier_y  \n",
       "0    0.656501     0.598071        1.0  \n",
       "1    0.630819     0.575563        1.0  \n",
       "2    0.686998     0.581994        1.0  \n",
       "3    0.682183     0.578778        1.0  \n",
       "4    0.677368     0.572347        0.0  "
      ]
     },
     "execution_count": 13,
     "metadata": {},
     "output_type": "execute_result"
    }
   ],
   "source": [
    "nasa_original.head()"
   ]
  },
  {
   "cell_type": "code",
   "execution_count": 14,
   "metadata": {},
   "outputs": [],
   "source": [
    "nasa_merged = nasa_org_copy.merge(nasa_original, left_index=True, right_index=True)"
   ]
  },
  {
   "cell_type": "code",
   "execution_count": 15,
   "metadata": {},
   "outputs": [
    {
     "data": {
      "text/html": [
       "<div>\n",
       "<style scoped>\n",
       "    .dataframe tbody tr th:only-of-type {\n",
       "        vertical-align: middle;\n",
       "    }\n",
       "\n",
       "    .dataframe tbody tr th {\n",
       "        vertical-align: top;\n",
       "    }\n",
       "\n",
       "    .dataframe thead th {\n",
       "        text-align: right;\n",
       "    }\n",
       "</style>\n",
       "<table border=\"1\" class=\"dataframe\">\n",
       "  <thead>\n",
       "    <tr style=\"text-align: right;\">\n",
       "      <th></th>\n",
       "      <th>time</th>\n",
       "      <th>Rad Flow</th>\n",
       "      <th>Fpv Close</th>\n",
       "      <th>Fpv Open</th>\n",
       "      <th>High</th>\n",
       "      <th>Bypass</th>\n",
       "      <th>Bpv Open</th>\n",
       "      <th>Bpv Close</th>\n",
       "      <th>outlier</th>\n",
       "      <th>time_y</th>\n",
       "      <th>Rad Flow_y</th>\n",
       "      <th>Fpv Close_y</th>\n",
       "      <th>Fpv Open_y</th>\n",
       "      <th>High_y</th>\n",
       "      <th>Bypass_y</th>\n",
       "      <th>Bpv Open_y</th>\n",
       "      <th>Bpv Close_y</th>\n",
       "      <th>outlier_y</th>\n",
       "    </tr>\n",
       "  </thead>\n",
       "  <tbody>\n",
       "    <tr>\n",
       "      <th>0</th>\n",
       "      <td>NaN</td>\n",
       "      <td>NaN</td>\n",
       "      <td>NaN</td>\n",
       "      <td>NaN</td>\n",
       "      <td>NaN</td>\n",
       "      <td>NaN</td>\n",
       "      <td>NaN</td>\n",
       "      <td>NaN</td>\n",
       "      <td>NaN</td>\n",
       "      <td>-4821.0</td>\n",
       "      <td>0.437500</td>\n",
       "      <td>0.507015</td>\n",
       "      <td>0.333333</td>\n",
       "      <td>0.638093</td>\n",
       "      <td>0.575163</td>\n",
       "      <td>0.656501</td>\n",
       "      <td>0.598071</td>\n",
       "      <td>1.0</td>\n",
       "    </tr>\n",
       "    <tr>\n",
       "      <th>1</th>\n",
       "      <td>-4821.0</td>\n",
       "      <td>0.437500</td>\n",
       "      <td>0.507015</td>\n",
       "      <td>0.333333</td>\n",
       "      <td>0.638093</td>\n",
       "      <td>0.575163</td>\n",
       "      <td>0.656501</td>\n",
       "      <td>0.598071</td>\n",
       "      <td>1.0</td>\n",
       "      <td>-4624.0</td>\n",
       "      <td>0.429688</td>\n",
       "      <td>0.507401</td>\n",
       "      <td>0.358974</td>\n",
       "      <td>0.638212</td>\n",
       "      <td>0.568627</td>\n",
       "      <td>0.630819</td>\n",
       "      <td>0.575563</td>\n",
       "      <td>1.0</td>\n",
       "    </tr>\n",
       "    <tr>\n",
       "      <th>2</th>\n",
       "      <td>-4624.0</td>\n",
       "      <td>0.429688</td>\n",
       "      <td>0.507401</td>\n",
       "      <td>0.358974</td>\n",
       "      <td>0.638212</td>\n",
       "      <td>0.568627</td>\n",
       "      <td>0.630819</td>\n",
       "      <td>0.575563</td>\n",
       "      <td>1.0</td>\n",
       "      <td>-4475.0</td>\n",
       "      <td>0.664062</td>\n",
       "      <td>0.506500</td>\n",
       "      <td>0.349359</td>\n",
       "      <td>0.638522</td>\n",
       "      <td>0.764706</td>\n",
       "      <td>0.686998</td>\n",
       "      <td>0.581994</td>\n",
       "      <td>1.0</td>\n",
       "    </tr>\n",
       "    <tr>\n",
       "      <th>3</th>\n",
       "      <td>-4475.0</td>\n",
       "      <td>0.664062</td>\n",
       "      <td>0.506500</td>\n",
       "      <td>0.349359</td>\n",
       "      <td>0.638522</td>\n",
       "      <td>0.764706</td>\n",
       "      <td>0.686998</td>\n",
       "      <td>0.581994</td>\n",
       "      <td>1.0</td>\n",
       "      <td>-4184.0</td>\n",
       "      <td>0.664062</td>\n",
       "      <td>0.512164</td>\n",
       "      <td>0.355769</td>\n",
       "      <td>0.637878</td>\n",
       "      <td>0.764706</td>\n",
       "      <td>0.682183</td>\n",
       "      <td>0.578778</td>\n",
       "      <td>1.0</td>\n",
       "    </tr>\n",
       "    <tr>\n",
       "      <th>4</th>\n",
       "      <td>-4184.0</td>\n",
       "      <td>0.664062</td>\n",
       "      <td>0.512164</td>\n",
       "      <td>0.355769</td>\n",
       "      <td>0.637878</td>\n",
       "      <td>0.764706</td>\n",
       "      <td>0.682183</td>\n",
       "      <td>0.578778</td>\n",
       "      <td>1.0</td>\n",
       "      <td>-4048.0</td>\n",
       "      <td>0.656250</td>\n",
       "      <td>0.507015</td>\n",
       "      <td>0.358974</td>\n",
       "      <td>0.638117</td>\n",
       "      <td>0.758170</td>\n",
       "      <td>0.677368</td>\n",
       "      <td>0.572347</td>\n",
       "      <td>0.0</td>\n",
       "    </tr>\n",
       "  </tbody>\n",
       "</table>\n",
       "</div>"
      ],
      "text/plain": [
       "     time  Rad Flow  Fpv Close  Fpv Open      High    Bypass  Bpv Open  \\\n",
       "0     NaN       NaN        NaN       NaN       NaN       NaN       NaN   \n",
       "1 -4821.0  0.437500   0.507015  0.333333  0.638093  0.575163  0.656501   \n",
       "2 -4624.0  0.429688   0.507401  0.358974  0.638212  0.568627  0.630819   \n",
       "3 -4475.0  0.664062   0.506500  0.349359  0.638522  0.764706  0.686998   \n",
       "4 -4184.0  0.664062   0.512164  0.355769  0.637878  0.764706  0.682183   \n",
       "\n",
       "   Bpv Close  outlier  time_y  Rad Flow_y  Fpv Close_y  Fpv Open_y    High_y  \\\n",
       "0        NaN      NaN -4821.0    0.437500     0.507015    0.333333  0.638093   \n",
       "1   0.598071      1.0 -4624.0    0.429688     0.507401    0.358974  0.638212   \n",
       "2   0.575563      1.0 -4475.0    0.664062     0.506500    0.349359  0.638522   \n",
       "3   0.581994      1.0 -4184.0    0.664062     0.512164    0.355769  0.637878   \n",
       "4   0.578778      1.0 -4048.0    0.656250     0.507015    0.358974  0.638117   \n",
       "\n",
       "   Bypass_y  Bpv Open_y  Bpv Close_y  outlier_y  \n",
       "0  0.575163    0.656501     0.598071        1.0  \n",
       "1  0.568627    0.630819     0.575563        1.0  \n",
       "2  0.764706    0.686998     0.581994        1.0  \n",
       "3  0.764706    0.682183     0.578778        1.0  \n",
       "4  0.758170    0.677368     0.572347        0.0  "
      ]
     },
     "execution_count": 15,
     "metadata": {},
     "output_type": "execute_result"
    }
   ],
   "source": [
    "\n",
    "nasa_merged.head()"
   ]
  },
  {
   "cell_type": "code",
   "execution_count": 16,
   "metadata": {},
   "outputs": [
    {
     "data": {
      "text/html": [
       "<div>\n",
       "<style scoped>\n",
       "    .dataframe tbody tr th:only-of-type {\n",
       "        vertical-align: middle;\n",
       "    }\n",
       "\n",
       "    .dataframe tbody tr th {\n",
       "        vertical-align: top;\n",
       "    }\n",
       "\n",
       "    .dataframe thead th {\n",
       "        text-align: right;\n",
       "    }\n",
       "</style>\n",
       "<table border=\"1\" class=\"dataframe\">\n",
       "  <thead>\n",
       "    <tr style=\"text-align: right;\">\n",
       "      <th></th>\n",
       "      <th>time</th>\n",
       "      <th>Rad Flow</th>\n",
       "      <th>Fpv Close</th>\n",
       "      <th>Fpv Open</th>\n",
       "      <th>High</th>\n",
       "      <th>Bypass</th>\n",
       "      <th>Bpv Open</th>\n",
       "      <th>Bpv Close</th>\n",
       "      <th>outlier</th>\n",
       "      <th>time_y</th>\n",
       "      <th>Rad Flow_y</th>\n",
       "      <th>Fpv Close_y</th>\n",
       "      <th>Fpv Open_y</th>\n",
       "      <th>High_y</th>\n",
       "      <th>Bypass_y</th>\n",
       "      <th>Bpv Open_y</th>\n",
       "      <th>Bpv Close_y</th>\n",
       "      <th>outlier_y</th>\n",
       "    </tr>\n",
       "  </thead>\n",
       "  <tbody>\n",
       "    <tr>\n",
       "      <th>49093</th>\n",
       "      <td>4400.0</td>\n",
       "      <td>0.664062</td>\n",
       "      <td>0.513451</td>\n",
       "      <td>0.355769</td>\n",
       "      <td>0.637806</td>\n",
       "      <td>0.261438</td>\n",
       "      <td>0.682183</td>\n",
       "      <td>0.700965</td>\n",
       "      <td>1.0</td>\n",
       "      <td>4501.0</td>\n",
       "      <td>0.664062</td>\n",
       "      <td>0.506758</td>\n",
       "      <td>0.349359</td>\n",
       "      <td>0.639238</td>\n",
       "      <td>0.248366</td>\n",
       "      <td>0.686998</td>\n",
       "      <td>0.707395</td>\n",
       "      <td>1.0</td>\n",
       "    </tr>\n",
       "    <tr>\n",
       "      <th>49094</th>\n",
       "      <td>4501.0</td>\n",
       "      <td>0.664062</td>\n",
       "      <td>0.506758</td>\n",
       "      <td>0.349359</td>\n",
       "      <td>0.639238</td>\n",
       "      <td>0.248366</td>\n",
       "      <td>0.686998</td>\n",
       "      <td>0.707395</td>\n",
       "      <td>1.0</td>\n",
       "      <td>4692.0</td>\n",
       "      <td>0.429688</td>\n",
       "      <td>0.507659</td>\n",
       "      <td>0.358974</td>\n",
       "      <td>0.638260</td>\n",
       "      <td>0.032680</td>\n",
       "      <td>0.630819</td>\n",
       "      <td>0.707395</td>\n",
       "      <td>1.0</td>\n",
       "    </tr>\n",
       "    <tr>\n",
       "      <th>49095</th>\n",
       "      <td>4692.0</td>\n",
       "      <td>0.429688</td>\n",
       "      <td>0.507659</td>\n",
       "      <td>0.358974</td>\n",
       "      <td>0.638260</td>\n",
       "      <td>0.032680</td>\n",
       "      <td>0.630819</td>\n",
       "      <td>0.707395</td>\n",
       "      <td>1.0</td>\n",
       "      <td>4903.0</td>\n",
       "      <td>0.648438</td>\n",
       "      <td>0.506629</td>\n",
       "      <td>0.358974</td>\n",
       "      <td>0.637973</td>\n",
       "      <td>0.196078</td>\n",
       "      <td>0.675762</td>\n",
       "      <td>0.710611</td>\n",
       "      <td>1.0</td>\n",
       "    </tr>\n",
       "    <tr>\n",
       "      <th>49096</th>\n",
       "      <td>4903.0</td>\n",
       "      <td>0.648438</td>\n",
       "      <td>0.506629</td>\n",
       "      <td>0.358974</td>\n",
       "      <td>0.637973</td>\n",
       "      <td>0.196078</td>\n",
       "      <td>0.675762</td>\n",
       "      <td>0.710611</td>\n",
       "      <td>1.0</td>\n",
       "      <td>5075.0</td>\n",
       "      <td>0.437500</td>\n",
       "      <td>0.507015</td>\n",
       "      <td>0.333333</td>\n",
       "      <td>0.638093</td>\n",
       "      <td>0.000000</td>\n",
       "      <td>0.656501</td>\n",
       "      <td>0.739550</td>\n",
       "      <td>1.0</td>\n",
       "    </tr>\n",
       "    <tr>\n",
       "      <th>49097</th>\n",
       "      <td>5075.0</td>\n",
       "      <td>0.437500</td>\n",
       "      <td>0.507015</td>\n",
       "      <td>0.333333</td>\n",
       "      <td>0.638093</td>\n",
       "      <td>0.000000</td>\n",
       "      <td>0.656501</td>\n",
       "      <td>0.739550</td>\n",
       "      <td>1.0</td>\n",
       "      <td>NaN</td>\n",
       "      <td>NaN</td>\n",
       "      <td>NaN</td>\n",
       "      <td>NaN</td>\n",
       "      <td>NaN</td>\n",
       "      <td>NaN</td>\n",
       "      <td>NaN</td>\n",
       "      <td>NaN</td>\n",
       "      <td>NaN</td>\n",
       "    </tr>\n",
       "  </tbody>\n",
       "</table>\n",
       "</div>"
      ],
      "text/plain": [
       "         time  Rad Flow  Fpv Close  Fpv Open      High    Bypass  Bpv Open  \\\n",
       "49093  4400.0  0.664062   0.513451  0.355769  0.637806  0.261438  0.682183   \n",
       "49094  4501.0  0.664062   0.506758  0.349359  0.639238  0.248366  0.686998   \n",
       "49095  4692.0  0.429688   0.507659  0.358974  0.638260  0.032680  0.630819   \n",
       "49096  4903.0  0.648438   0.506629  0.358974  0.637973  0.196078  0.675762   \n",
       "49097  5075.0  0.437500   0.507015  0.333333  0.638093  0.000000  0.656501   \n",
       "\n",
       "       Bpv Close  outlier  time_y  Rad Flow_y  Fpv Close_y  Fpv Open_y  \\\n",
       "49093   0.700965      1.0  4501.0    0.664062     0.506758    0.349359   \n",
       "49094   0.707395      1.0  4692.0    0.429688     0.507659    0.358974   \n",
       "49095   0.707395      1.0  4903.0    0.648438     0.506629    0.358974   \n",
       "49096   0.710611      1.0  5075.0    0.437500     0.507015    0.333333   \n",
       "49097   0.739550      1.0     NaN         NaN          NaN         NaN   \n",
       "\n",
       "         High_y  Bypass_y  Bpv Open_y  Bpv Close_y  outlier_y  \n",
       "49093  0.639238  0.248366    0.686998     0.707395        1.0  \n",
       "49094  0.638260  0.032680    0.630819     0.707395        1.0  \n",
       "49095  0.637973  0.196078    0.675762     0.710611        1.0  \n",
       "49096  0.638093  0.000000    0.656501     0.739550        1.0  \n",
       "49097       NaN       NaN         NaN          NaN        NaN  "
      ]
     },
     "execution_count": 16,
     "metadata": {},
     "output_type": "execute_result"
    }
   ],
   "source": [
    "nasa_merged.tail()"
   ]
  },
  {
   "cell_type": "code",
   "execution_count": 17,
   "metadata": {},
   "outputs": [
    {
     "name": "stdout",
     "output_type": "stream",
     "text": [
      "(49098, 18)\n",
      "(49096, 18)\n"
     ]
    }
   ],
   "source": [
    "#Since the first and last rows have NaN values, we need to remove those from the dataframe\n",
    "print(nasa_merged.shape)\n",
    "nasa_merged = nasa_merged.drop([0,49097])\n",
    "print(nasa_merged.shape)"
   ]
  },
  {
   "cell_type": "code",
   "execution_count": 18,
   "metadata": {},
   "outputs": [],
   "source": [
    "# outlier_y column is not needed for forecasting, but needed later to detect outliers\n",
    "# remove columns which are not relevant for forecasting of time series\n",
    "outlier_df = nasa_merged[['outlier_y']]\n",
    "nasa_merged = nasa_merged.drop(['outlier','outlier_y','time', 'time_y'], axis=1)"
   ]
  },
  {
   "cell_type": "code",
   "execution_count": 19,
   "metadata": {},
   "outputs": [],
   "source": [
    "train_size = int(len(nasa_merged) * 0.8)\n",
    "train_set, test_set = nasa_merged[:train_size], nasa_merged[train_size:]"
   ]
  },
  {
   "cell_type": "code",
   "execution_count": 20,
   "metadata": {},
   "outputs": [],
   "source": [
    "#seperate into features and target\n",
    "X_train = train_set[['Rad Flow','Fpv Close', 'Fpv Open', 'High', 'Bypass', 'Bpv Open', 'Bpv Close']]\n",
    "y_train = train_set[['Rad Flow_y','Fpv Close_y', 'Fpv Open_y', 'High_y', 'Bypass_y', 'Bpv Open_y', 'Bpv Close_y']]"
   ]
  },
  {
   "cell_type": "code",
   "execution_count": 22,
   "metadata": {},
   "outputs": [],
   "source": [
    "X_test = test_set[['Rad Flow','Fpv Close', 'Fpv Open', 'High', 'Bypass', 'Bpv Open', 'Bpv Close']]\n",
    "y_test = test_set[['Rad Flow_y','Fpv Close_y', 'Fpv Open_y', 'High_y', 'Bypass_y', 'Bpv Open_y', 'Bpv Close_y']]"
   ]
  },
  {
   "cell_type": "code",
   "execution_count": 23,
   "metadata": {},
   "outputs": [
    {
     "name": "stdout",
     "output_type": "stream",
     "text": [
      "(39276, 7) (39276, 7)\n",
      "(9820, 7) (9820, 7)\n"
     ]
    }
   ],
   "source": [
    "print(X_train.shape, y_train.shape)\n",
    "print(X_test.shape, y_test.shape)"
   ]
  },
  {
   "cell_type": "code",
   "execution_count": 27,
   "metadata": {},
   "outputs": [],
   "source": [
    "svm_clf = SVR(kernel='poly')"
   ]
  },
  {
   "cell_type": "code",
   "execution_count": null,
   "metadata": {},
   "outputs": [],
   "source": [
    "clf = MultiOutputRegressor(svm_clf).fit(X_train, y_train)"
   ]
  },
  {
   "cell_type": "code",
   "execution_count": null,
   "metadata": {},
   "outputs": [],
   "source": [
    "# class VectorRegression(sklearn.base.BaseEstimator):\n",
    "#     def __init__(self, estimator):\n",
    "#         self.estimator = estimator\n",
    "\n",
    "#     def fit(self, X, y):\n",
    "#         n, m = y.shape\n",
    "#         # Fit a separate regressor for each column of y\n",
    "#         self.estimators_ = [sklearn.base.clone(self.estimator).fit(X, y[:, i]) for i in range(m)]\n",
    "#         return self\n",
    "\n",
    "#     def predict(self, X):\n",
    "#         # Join regressors' predictions\n",
    "#         res = [est.predict(X)[:, np.newaxis] for est in self.estimators_]\n",
    "#         return np.hstack(res)"
   ]
  },
  {
   "cell_type": "code",
   "execution_count": null,
   "metadata": {},
   "outputs": [],
   "source": [
    "y_predict = clf.predict(X_test)"
   ]
  },
  {
   "cell_type": "code",
   "execution_count": null,
   "metadata": {},
   "outputs": [],
   "source": []
  }
 ],
 "metadata": {
  "kernelspec": {
   "display_name": "Python 3",
   "language": "python",
   "name": "python3"
  },
  "language_info": {
   "codemirror_mode": {
    "name": "ipython",
    "version": 3
   },
   "file_extension": ".py",
   "mimetype": "text/x-python",
   "name": "python",
   "nbconvert_exporter": "python",
   "pygments_lexer": "ipython3",
   "version": "3.7.3"
  }
 },
 "nbformat": 4,
 "nbformat_minor": 2
}
