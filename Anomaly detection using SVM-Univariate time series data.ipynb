{
 "cells": [
  {
   "cell_type": "markdown",
   "metadata": {},
   "source": [
    "# Anomaly Record Detection in Sequence Data using Support Vector Machines -  Yahoo Data (Univariate)"
   ]
  },
  {
   "cell_type": "code",
   "execution_count": 89,
   "metadata": {},
   "outputs": [],
   "source": [
    "import pandas as pd\n",
    "import numpy as np\n",
    "import sklearn\n",
    "from sklearn.multioutput import MultiOutputRegressor\n",
    "import matplotlib.pyplot as plt\n",
    "from sklearn.svm import SVR\n",
    "from sklearn.metrics import accuracy_score, precision_score, recall_score, f1_score\n",
    "import import_ipynb\n",
    "from Deviation_Threshold import get_deviations, get_anomaly_labels_by_deviation_threshold, get_anomaly_labels_by_deviation_pctile_threshold\n",
    "import glob\n",
    "from sklearn.metrics import precision_recall_fscore_support\n",
    "import warnings\n",
    "import statistics\n",
    "from tabulate import tabulate\n",
    "warnings.filterwarnings('ignore')\n",
    "\n",
    "%matplotlib inline\n"
   ]
  },
  {
   "cell_type": "code",
   "execution_count": 90,
   "metadata": {},
   "outputs": [],
   "source": [
    "def predictTimeSeries(file_path, sliding_window=1, threshold=0.1, asPercentile=True, percentile=75.0, kernel='rbf', epsilon=0.1, gamma='scale', C=1.0):\n",
    "    \"\"\"\n",
    "    This function reads in csv's in the given path and processes each of them, based on the sliding window.\n",
    "    Creates a Support Vector Regression Model and fits 80% of the data and predicts 20% of the data\n",
    "    \n",
    "    file_path - path to the csv files\n",
    "    sliding_window - how many previous entries should be considered as inputs to the current entry\n",
    "    \n",
    "    return - dictionary of precision, recall and F1-scores for each csv file\n",
    "             Ex: {key,value} --> {fileName, [precision, recall, f1-score]}\n",
    "    \"\"\"\n",
    "    \n",
    "    dict={}\n",
    "\n",
    "    a1_csv = glob.glob(file_path, recursive=True)\n",
    "    for index,file in enumerate(a1_csv):\n",
    "\n",
    "        # Read in 1 csv file\n",
    "        yahoo_df = pd.read_csv(file)\n",
    "        fname = file.split(\"/\")[4].replace('\\\\','').split(\".\")[0]\n",
    "#         print(\"File name {}\".format(fname))\n",
    "        # Extract column names\n",
    "        columnNames = list(yahoo_df.columns)\n",
    "\n",
    "        # Make a copy of the dataframe, one will be used as output, and the other as input\n",
    "        yahoo_df_copy = yahoo_df.copy(deep=True)\n",
    "\n",
    "        # first append a NaN row to the dataframe, because the last row will be lost when shifted\n",
    "        yahoo_df_copy = yahoo_df_copy.append(pd.Series(), ignore_index=True)\n",
    "        yahoo_df_copy = yahoo_df_copy.shift(1)\n",
    "\n",
    "    #     print(\"Copy head\")\n",
    "    #     print(yahoo_df_copy.head(5))\n",
    "\n",
    "        # a NaN row is required to be able to merge\n",
    "        yahoo_df = yahoo_df.append(pd.Series(), ignore_index=True)\n",
    "\n",
    "    #     print(\"Original head\")\n",
    "    #     print(yahoo_df.head(5))\n",
    "\n",
    "        yahoo_df = yahoo_df.rename(columns=createColumnDict(columnNames))\n",
    "\n",
    "        yahoo_merged = yahoo_df_copy.merge(yahoo_df, left_index=True, right_index=True)\n",
    "\n",
    "    #     print(\"Merged head\")\n",
    "    #     print(yahoo_merged.head(5))\n",
    "\n",
    "    #     print(\"Merged tail\")\n",
    "    #     print(yahoo_merged.tail(5))\n",
    "\n",
    "    #     print(yahoo_merged.shape)\n",
    "    #     print(yahoo_merged.head(0))\n",
    "\n",
    "        # TODO put this in a for loop for sliding_window > 1\n",
    "        last_index = yahoo_merged.shape[0] - 1\n",
    "        # drop the 1st and last rows, because they contain NaN values\n",
    "        yahoo_merged = yahoo_merged.drop([0,last_index])\n",
    "        \n",
    "#         yahoo_merged = yahoo_merged.drop(['is_anomaly','is_anomaly_y','timestamp', 'timestamp_y'], axis=1)\n",
    "        train_size = int(len(yahoo_merged) * 0.8)\n",
    "        train_set, test_set = yahoo_merged[:train_size], yahoo_merged[train_size:]\n",
    "        #seperate into features and target\n",
    "        X_train = train_set[['value']]\n",
    "        y_train = train_set[['value_y']]\n",
    "        X_test = test_set[['value']]\n",
    "        y_test = test_set[['value_y']]\n",
    "        \n",
    "        # outlier_y column is not needed for forecasting, but needed later to detect outliers\n",
    "        outlier_df = test_set[['is_anomaly_y']]\n",
    "\n",
    "        svm_clf = SVR(kernel=kernel,gamma=gamma,C=C, epsilon=epsilon)\n",
    "        svm_clf.fit(X_train, np.ravel(y_train))\n",
    "        y_predict = svm_clf.predict(X_test)\n",
    "#         y_predict1 = y_predict.reshape(-1,1)\n",
    "\n",
    "#         print(\"Actual anomaly : \")\n",
    "#         print(outlier_df)\n",
    "\n",
    "        predicted_anomaly = None\n",
    "        if(asPercentile):\n",
    "            predicted_anomaly = get_anomaly_labels_by_deviation_pctile_threshold(np.ravel(y_test), np.ravel(y_predict), percentile) \n",
    "        else:\n",
    "            predicted_anomaly = get_anomaly_labels_by_deviation_threshold(np.ravel(y_test), np.ravel(y_predict), threshold)\n",
    "        \n",
    "        metrics = precision_recall_fscore_support(np.ravel(outlier_df), predicted_anomaly, average='binary', zero_division=0)\n",
    "        \n",
    "        # metrics[0] is Precision, metrics[1] is Recall and metrics[2] is F1-score\n",
    "        dict[fname] = [metrics[0], metrics[1], metrics[2]]\n",
    "#         print(\"Precision :\" ,metrics[0], \"Recall :\", metrics[1], \"F1-score :\" ,metrics[2])\n",
    "#         print()\n",
    "    return dict\n"
   ]
  },
  {
   "cell_type": "code",
   "execution_count": 91,
   "metadata": {},
   "outputs": [],
   "source": [
    "def createColumnDict(columnNames):\n",
    "    \"\"\"\n",
    "    Generates a dictionary which contains a mapping between column names to the target column names\n",
    "    \n",
    "    columnNames - current names of the columns\n",
    "    \n",
    "    return a dictionary which contains a mapping between column names\n",
    "            Ex: [\"timestamp\", \"value\", \"is_anomaly\"]\n",
    "            {\"timestamp\": \"timestamp_y\", \"value\": \"value_y\", \"is_anomaly\": \"is_anomaly_y\"}\n",
    "    \"\"\"\n",
    "    \n",
    "    dict = {}\n",
    "    for name in columnNames:\n",
    "        dict[name] = name + \"_y\"\n",
    "    \n",
    "    return dict"
   ]
  },
  {
   "cell_type": "code",
   "execution_count": 92,
   "metadata": {},
   "outputs": [],
   "source": [
    "def getMetricResults(dictionary):\n",
    "    \"\"\"\n",
    "    Reads data from the dictionary and generates 3 lists of precision, recall and f1-scores\n",
    "    \n",
    "    dictionary - dictionary containing key, value pairs of filename and metric list\n",
    "    \n",
    "    returns 3 lists of each metric values\n",
    "    \"\"\"\n",
    "\n",
    "    precision_results = []\n",
    "    recall_results = []\n",
    "    f1_results = []\n",
    "    for fname in dictionary:\n",
    "        all_results = dictionary[fname]\n",
    "        precision_results.append(all_results[0])\n",
    "        recall_results.append(all_results[1])\n",
    "        f1_results.append(all_results[2])\n",
    "    \n",
    "    return precision_results, recall_results, f1_results\n",
    "    "
   ]
  },
  {
   "cell_type": "code",
   "execution_count": 93,
   "metadata": {},
   "outputs": [],
   "source": [
    "def draw_box_plots(p1, p2, p3, r1, r2, r3, f1, f2, f3, p1_n, p2_n, p3_n, r1_n, r2_n, r3_n, f1_n, f2_n, f3_n):\n",
    "\n",
    "    \"\"\"\n",
    "    Takes in 18 lists (6 precision results lists, 6 recall results lists, 6 f1-score results lists) and plots\n",
    "    6 boxplots, each having 3 box plots\n",
    "    \"\"\"\n",
    "    \n",
    "    precision_data = [p1, p2, p3] \n",
    "    recall_data = [r1, r2, r3] \n",
    "    f1_data = [f1, f2, f3] \n",
    "\n",
    "    new_precision_data = [p1_n, p2_n, p3_n]\n",
    "    new_recall_data = [r1_n, r2_n, r3_n]\n",
    "    new_f1_data = [f1_n, f2_n, f3_n]\n",
    "\n",
    "    fig, ax = plt.subplots(3, 2, figsize=(10, 10))\n",
    "    fig.subplots_adjust(hspace=0.4, wspace=0.7)\n",
    "\n",
    "    ax[0][0].set_title('SVR when epsilon=\"0.1\"')\n",
    "    ax[0][0].set_xlabel('C')\n",
    "    ax[0][0].set_ylabel('Precision')\n",
    "    ax[0][0].set_xticklabels([1,25,50])\n",
    "    ax[0][0].boxplot(precision_data)\n",
    "\n",
    "    ax[0][1].set_title('SVR when epsilon=\"0.5\"')\n",
    "    ax[0][1].set_xlabel('C')\n",
    "    ax[0][1].set_ylabel('Precision')\n",
    "    ax[0][1].set_xticklabels([1,25,50])\n",
    "    ax[0][1].sharey(ax[0, 0])\n",
    "    ax[0][1].boxplot(new_precision_data)\n",
    "\n",
    "    ax[1][0].set_xlabel('C')\n",
    "    ax[1][0].set_ylabel('Recall')\n",
    "    ax[1][0].set_xticklabels([1,25,50])\n",
    "    ax[1][0].boxplot(recall_data)\n",
    "    \n",
    "    ax[1][1].set_xlabel('C')\n",
    "    ax[1][1].set_ylabel('Recall')\n",
    "    ax[1][1].set_xticklabels([1,25,50])\n",
    "    ax[1][1].sharey(ax[1, 0])\n",
    "    ax[1][1].boxplot(new_recall_data)\n",
    "\n",
    "    ax[2][0].set_xlabel('C')\n",
    "    ax[2][0].set_ylabel('F1-score')\n",
    "    ax[2][0].set_xticklabels([1,25,50]) \n",
    "    ax[2][0].boxplot(f1_data)\n",
    "    \n",
    "    ax[2][1].set_xlabel('C')\n",
    "    ax[2][1].set_ylabel('F1-score')\n",
    "    ax[2][1].set_xticklabels([1,25,50]) \n",
    "    ax[2][1].sharey(ax[2, 0])\n",
    "    ax[2][1].boxplot(new_f1_data)\n",
    "\n",
    "    plt.show()"
   ]
  },
  {
   "cell_type": "code",
   "execution_count": 94,
   "metadata": {},
   "outputs": [],
   "source": [
    "def generate_median_table(p1, p2, p3, r1, r2, r3, f1, f2, f3, p1_n, p2_n, p3_n, r1_n, r2_n, r3_n, f1_n, f2_n, f3_n):\n",
    "    \"\"\"\n",
    "    Generates 2 tables which includes the median of precision, recall and f1-score results\n",
    "    First 9 lists belong in 1 table and the other 9 lists belong the other table\n",
    "    \n",
    "    \"\"\"\n",
    "    \n",
    "    l1 = [['precision', statistics.median(p1), statistics.median(p2), statistics.median(p3)],\n",
    "          ['recall', statistics.median(r1), statistics.median(r2), statistics.median(r3)],\n",
    "          ['f1-score', statistics.median(f1), statistics.median(f2), statistics.median(f3)]]\n",
    "    table1 = tabulate(l1, headers=['', 'C=1', 'C=25', 'C=50' ], tablefmt='orgtbl')\n",
    "    print()\n",
    "    print('Median when SVR has epsilon=\"0.1\"\\n')\n",
    "    print(table1)\n",
    "    \n",
    "    l2 = [['precision', statistics.median(p1_n), statistics.median(p2_n), statistics.median(p3_n)],\n",
    "          ['recall', statistics.median(r1_n), statistics.median(r2_n), statistics.median(r3_n)],\n",
    "          ['f1-score', statistics.median(f1_n), statistics.median(f2_n), statistics.median(f3_n)]]\n",
    "    table2 = tabulate(l2, headers=['', 'C=1', 'C=25', 'C=50' ], tablefmt='orgtbl')\n",
    "    print()\n",
    "    print('Median when SVR has epsilon=\"0.5\"\\n')\n",
    "    print(table2)\n"
   ]
  },
  {
   "cell_type": "markdown",
   "metadata": {},
   "source": [
    "### A1 Benchmark"
   ]
  },
  {
   "cell_type": "code",
   "execution_count": 124,
   "metadata": {},
   "outputs": [],
   "source": [
    "A1_dict_default = predictTimeSeries('./data/ydata-labeled-time-series-anomalies-v1_0/A1Benchmark_processed/*.csv',1)\n",
    "A1_dict_C_25 = predictTimeSeries('./data/ydata-labeled-time-series-anomalies-v1_0/A1Benchmark_processed/*.csv',1,C=25)\n",
    "A1_dict_C_50 = predictTimeSeries('./data/ydata-labeled-time-series-anomalies-v1_0/A1Benchmark_processed/*.csv',1,C=50)\n",
    "A1_dict_e_0 = predictTimeSeries('./data/ydata-labeled-time-series-anomalies-v1_0/A1Benchmark_processed/*.csv',1, epsilon=0.5)\n",
    "A1_dict_e_C_25 = predictTimeSeries('./data/ydata-labeled-time-series-anomalies-v1_0/A1Benchmark_processed/*.csv',1,epsilon=0.5, C=25)\n",
    "A1_dict_e_C_50 = predictTimeSeries('./data/ydata-labeled-time-series-anomalies-v1_0/A1Benchmark_processed/*.csv',1,epsilon=0.5, C=50)"
   ]
  },
  {
   "cell_type": "code",
   "execution_count": 125,
   "metadata": {},
   "outputs": [
    {
     "data": {
      "image/png": "[encoded data removed]",
      "text/plain": [
       "<Figure size 720x720 with 6 Axes>"
      ]
     },
     "metadata": {
      "needs_background": "light"
     },
     "output_type": "display_data"
    }
   ],
   "source": [
    "# results for epsilon = 0.1\n",
    "a1_p1, a1_r1, a1_f1 = getMetricResults(A1_dict_default)\n",
    "a1_p2, a1_r2, a1_f2 = getMetricResults(A1_dict_C_25)\n",
    "a1_p3, a1_r3, a1_f3 = getMetricResults(A1_dict_C_50)\n",
    "\n",
    "# results for epsilon = 0.5\n",
    "a1_p1_n, a1_r1_n, a1_f1_n = getMetricResults(A1_dict_e_0)\n",
    "a1_p2_n, a1_r2_n, a1_f2_n = getMetricResults(A1_dict_e_C_25)\n",
    "a1_p3_n, a1_r3_n, a1_f3_n = getMetricResults(A1_dict_e_C_50)\n",
    "\n",
    "draw_box_plots(a1_p1, a1_p2, a1_p3, a1_r1, a1_r2, a1_r3, a1_f1, a1_f2, a1_f3, a1_p1_n, a1_p2_n, a1_p3_n, a1_r1_n, a1_r2_n, a1_r3_n, a1_f1_n, a1_f2_n, a1_f3_n)"
   ]
  },
  {
   "cell_type": "code",
   "execution_count": 126,
   "metadata": {},
   "outputs": [
    {
     "name": "stdout",
     "output_type": "stream",
     "text": [
      "\n",
      "Median when SVR has epsilon=\"0.1\"\n",
      "\n",
      "|           |       C=1 |      C=25 |      C=50 |\n",
      "|-----------+-----------+-----------+-----------|\n",
      "| precision | 0.0555556 | 0.0555556 | 0.0555556 |\n",
      "| recall    | 1         | 1         | 1         |\n",
      "| f1-score  | 0.1       | 0.0789474 | 0.0789474 |\n",
      "\n",
      "Median when SVR has epsilon=\"0.5\"\n",
      "\n",
      "|           |       C=1 |      C=25 |      C=50 |\n",
      "|-----------+-----------+-----------+-----------|\n",
      "| precision | 0.028169  | 0.028169  | 0.028169  |\n",
      "| recall    | 0.875     | 0.875     | 0.875     |\n",
      "| f1-score  | 0.0493827 | 0.0493827 | 0.0493827 |\n"
     ]
    }
   ],
   "source": [
    "generate_median_table(a1_p1, a1_p2, a1_p3, a1_r1, a1_r2, a1_r3, a1_f1, a1_f2, a1_f3, a1_p1_n, a1_p2_n, a1_p3_n, a1_r1_n, a1_r2_n, a1_r3_n, a1_f1_n, a1_f2_n, a1_f3_n)"
   ]
  },
  {
   "cell_type": "markdown",
   "metadata": {},
   "source": [
    "### A2 Benchmark"
   ]
  },
  {
   "cell_type": "code",
   "execution_count": 121,
   "metadata": {},
   "outputs": [],
   "source": [
    "A2_dict_default = predictTimeSeries('./data/ydata-labeled-time-series-anomalies-v1_0/A2Benchmark_processed/*.csv',1)\n",
    "A2_dict_C_25 = predictTimeSeries('./data/ydata-labeled-time-series-anomalies-v1_0/A2Benchmark_processed/*.csv',1,C=25)\n",
    "A2_dict_C_50 = predictTimeSeries('./data/ydata-labeled-time-series-anomalies-v1_0/A2Benchmark_processed/*.csv',1,C=50)\n",
    "A2_dict_e = predictTimeSeries('./data/ydata-labeled-time-series-anomalies-v1_0/A2Benchmark_processed/*.csv',1, epsilon=0.5)\n",
    "A2_dict_e_C_25 = predictTimeSeries('./data/ydata-labeled-time-series-anomalies-v1_0/A2Benchmark_processed/*.csv',1, epsilon=0.5, C=25)\n",
    "A2_dict_e_C_50 = predictTimeSeries('./data/ydata-labeled-time-series-anomalies-v1_0/A2Benchmark_processed/*.csv',1, epsilon=0.5, C=50)"
   ]
  },
  {
   "cell_type": "code",
   "execution_count": 122,
   "metadata": {},
   "outputs": [
    {
     "data": {
      "image/png": "[encoded data removed]",
      "text/plain": [
       "<Figure size 720x720 with 6 Axes>"
      ]
     },
     "metadata": {
      "needs_background": "light"
     },
     "output_type": "display_data"
    }
   ],
   "source": [
    "# results for epsilon = 0.1\n",
    "a2_p1, a2_r1, a2_f1 = getMetricResults(A2_dict_default)\n",
    "a2_p2, a2_r2, a2_f2 = getMetricResults(A2_dict_C_25)\n",
    "a2_p3, a2_r3, a2_f3 = getMetricResults(A2_dict_C_50)\n",
    "\n",
    "# results for epsilon = 0.5\n",
    "a2_p1_n, a2_r1_n, a2_f1_n = getMetricResults(A2_dict_e)\n",
    "a2_p2_n, a2_r2_n, a2_f2_n = getMetricResults(A2_dict_e_C_25)\n",
    "a2_p3_n, a2_r3_n, a2_f3_n = getMetricResults(A2_dict_e_C_50)\n",
    "\n",
    "draw_box_plots(a2_p1, a2_p2, a2_p3, a2_r1, a2_r2, a2_r3, a2_f1, a2_f2, a2_f3, a2_p1_n, a2_p2_n, a2_p3_n, a2_r1_n, a2_r2_n, a2_r3_n, a2_f1_n, a2_f2_n, a2_f3_n)"
   ]
  },
  {
   "cell_type": "code",
   "execution_count": 123,
   "metadata": {},
   "outputs": [
    {
     "name": "stdout",
     "output_type": "stream",
     "text": [
      "\n",
      "Median when SVR has epsilon=\"0.1\"\n",
      "\n",
      "|           |   C=1 |   C=25 |   C=50 |\n",
      "|-----------+-------+--------+--------|\n",
      "| precision |     0 |      0 |      0 |\n",
      "| recall    |     0 |      0 |      0 |\n",
      "| f1-score  |     0 |      0 |      0 |\n",
      "\n",
      "Median when SVR has epsilon=\"0.5\"\n",
      "\n",
      "|           |   C=1 |   C=25 |   C=50 |\n",
      "|-----------+-------+--------+--------|\n",
      "| precision |     0 |      0 |      0 |\n",
      "| recall    |     0 |      0 |      0 |\n",
      "| f1-score  |     0 |      0 |      0 |\n"
     ]
    }
   ],
   "source": [
    "generate_median_table(a2_p1, a2_p2, a2_p3, a2_r1, a2_r2, a2_r3, a2_f1, a2_f2, a2_f3, a2_p1_n, a2_p2_n, a2_p3_n, a2_r1_n, a2_r2_n, a2_r3_n, a2_f1_n, a2_f2_n, a2_f3_n)"
   ]
  },
  {
   "cell_type": "markdown",
   "metadata": {},
   "source": [
    "There is a difference between the data in A1Benchmark and A2Benchmark compared to A3Benchmark and A4Benchmark. For example, more number of fields and anomaly fields"
   ]
  },
  {
   "cell_type": "code",
   "execution_count": 101,
   "metadata": {},
   "outputs": [],
   "source": [
    "def predictTimeSeriesNew(file_path, sliding_window=1, threshold=0.1, asPercentile=True, percentile=75.0, gamma='scale', kernel='rbf', epsilon=0.1, C=1.0):\n",
    "    \"\"\"\n",
    "    This function reads in csv's in the given path and processes each of them, based on the sliding window.\n",
    "    Creates a Support Vector Regression Model and fits 80% of the data and predicts 20% of the data\n",
    "    \n",
    "    file_path - path to the csv files\n",
    "    sliding_window - how many previous entries should be considered as inputs to the current entry\n",
    "    \n",
    "    return - dictionary of precision, recall and F1-scores for each csv file\n",
    "    \"\"\"\n",
    "\n",
    "    dict = {}\n",
    "    a3_csv = glob.glob(file_path, recursive=True)\n",
    "    for index,file in enumerate(a3_csv):\n",
    "\n",
    "        fname = file.split(\"/\")[4].replace('\\\\','').split(\".\")[0]\n",
    "        \n",
    "        if(not(fname == 'A3Benchmark_all' or fname == 'A4Benchmark_all')):\n",
    "        \n",
    "            #print(\"File name {}\".format(fname))\n",
    "        \n",
    "            # Read in 1 csv file\n",
    "            yahoo_df = pd.read_csv(file)\n",
    "\n",
    "\n",
    "            # these csv files have 9 attributes, but we need only \n",
    "            yahoo_df = yahoo_df[['timestamps','value','anomaly']]\n",
    "\n",
    "            # Extract column names\n",
    "            columnNames = list(yahoo_df.columns)\n",
    "\n",
    "            # Make a copy of the dataframe, one will be used as output, and the other as input\n",
    "            yahoo_df_copy = yahoo_df.copy(deep=True)\n",
    "\n",
    "            # first append a NaN row to the dataframe, because the last row will be lost when shifted\n",
    "            yahoo_df_copy = yahoo_df_copy.append(pd.Series(), ignore_index=True)\n",
    "            yahoo_df_copy = yahoo_df_copy.shift(1)\n",
    "\n",
    "        #     print(\"Copy head\")\n",
    "        #     print(yahoo_df_copy.head(5))\n",
    "\n",
    "            # a NaN row is required to be able to merge\n",
    "            yahoo_df = yahoo_df.append(pd.Series(), ignore_index=True)\n",
    "\n",
    "        #     print(\"Original head\")\n",
    "        #     print(yahoo_df.head(5))\n",
    "\n",
    "            yahoo_df = yahoo_df.rename(columns=createColumnDict(columnNames))\n",
    "\n",
    "            yahoo_merged = yahoo_df_copy.merge(yahoo_df, left_index=True, right_index=True)\n",
    "\n",
    "        #     print(\"Merged head\")\n",
    "        #     print(yahoo_merged.head(5))\n",
    "\n",
    "        #     print(\"Merged tail\")\n",
    "        #     print(yahoo_merged.tail(5))\n",
    "\n",
    "        #     print(yahoo_merged.shape)\n",
    "        #     print(yahoo_merged.head(0))\n",
    "\n",
    "            # TODO put this in a for loop for sliding_window > 1\n",
    "            last_index = yahoo_merged.shape[0] - 1\n",
    "            # drop the 1st and last rows, because they contain NaN values\n",
    "            yahoo_merged = yahoo_merged.drop([0,last_index])\n",
    "\n",
    "    #         yahoo_merged = yahoo_merged.drop(['is_anomaly','is_anomaly_y','timestamp', 'timestamp_y'], axis=1)\n",
    "            train_size = int(len(yahoo_merged) * 0.8)\n",
    "            train_set, test_set = yahoo_merged[:train_size], yahoo_merged[train_size:]\n",
    "            #seperate into features and target\n",
    "            X_train = train_set[['value']]\n",
    "            y_train = train_set[['value_y']]\n",
    "            X_test = test_set[['value']]\n",
    "            y_test = test_set[['value_y']]\n",
    "\n",
    "            # outlier_y column is not needed for forecasting, but needed later to detect outliers\n",
    "            outlier_df = test_set[['anomaly_y']]\n",
    "\n",
    "            svm_clf = SVR(kernel=kernel, gamma=gamma, C=C, epsilon=epsilon)\n",
    "            svm_clf.fit(X_train, np.ravel(y_train))\n",
    "            y_predict = svm_clf.predict(X_test)\n",
    "    #         y_predict1 = y_predict.reshape(-1,1)\n",
    "\n",
    "    #         print(\"Actual anomaly : \")\n",
    "    #         print(outlier_df)\n",
    "\n",
    "            predicted_anomaly = None\n",
    "            if(asPercentile):\n",
    "                predicted_anomaly = get_anomaly_labels_by_deviation_pctile_threshold(np.ravel(y_test), np.ravel(y_predict), percentile) \n",
    "            else:\n",
    "                predicted_anomaly = get_anomaly_labels_by_deviation_threshold(np.ravel(y_test), np.ravel(y_predict), threshold)\n",
    "\n",
    "            metrics = precision_recall_fscore_support(np.ravel(outlier_df), predicted_anomaly, average='binary', zero_division=0)\n",
    "\n",
    "            dict[fname] = [metrics[0], metrics[1], metrics[2]]\n",
    "\n",
    "    return dict\n",
    "\n"
   ]
  },
  {
   "cell_type": "markdown",
   "metadata": {},
   "source": [
    "### A3 Benchmark"
   ]
  },
  {
   "cell_type": "code",
   "execution_count": 118,
   "metadata": {},
   "outputs": [],
   "source": [
    "A3_dict_default = predictTimeSeriesNew('./data/ydata-labeled-time-series-anomalies-v1_0/A3Benchmark_processed/*.csv',1)\n",
    "A3_dict_C_25 = predictTimeSeriesNew('./data/ydata-labeled-time-series-anomalies-v1_0/A3Benchmark_processed/*.csv',1,C=25)\n",
    "A3_dict_C_50 = predictTimeSeriesNew('./data/ydata-labeled-time-series-anomalies-v1_0/A3Benchmark_processed/*.csv',1,C=50)\n",
    "A3_dict_e = predictTimeSeriesNew('./data/ydata-labeled-time-series-anomalies-v1_0/A3Benchmark_processed/*.csv',1,epsilon=0.5)\n",
    "A3_dict_e_C_25 = predictTimeSeriesNew('./data/ydata-labeled-time-series-anomalies-v1_0/A3Benchmark_processed/*.csv',1,epsilon=0.5,C=25)\n",
    "A3_dict_e_C_50 = predictTimeSeriesNew('./data/ydata-labeled-time-series-anomalies-v1_0/A3Benchmark_processed/*.csv',1,epsilon=0.5,C=50)"
   ]
  },
  {
   "cell_type": "code",
   "execution_count": 119,
   "metadata": {},
   "outputs": [
    {
     "data": {
      "image/png": "[encoded data removed]",
      "text/plain": [
       "<Figure size 720x720 with 6 Axes>"
      ]
     },
     "metadata": {
      "needs_background": "light"
     },
     "output_type": "display_data"
    }
   ],
   "source": [
    "# results for epsilon = 0.1\n",
    "a3_p1, a3_r1, a3_f1 = getMetricResults(A3_dict_default)\n",
    "a3_p2, a3_r2, a3_f2 = getMetricResults(A3_dict_C_25)\n",
    "a3_p3, a3_r3, a3_f3 = getMetricResults(A3_dict_C_50)\n",
    "\n",
    "# results for epsilon = 0.5\n",
    "a3_p1_n, a3_r1_n, a3_f1_n = getMetricResults(A3_dict_e)\n",
    "a3_p2_n, a3_r2_n, a3_f2_n = getMetricResults(A3_dict_e_C_25)\n",
    "a3_p3_n, a3_r3_n, a3_f3_n = getMetricResults(A3_dict_e_C_50)\n",
    "\n",
    "draw_box_plots(a3_p1, a3_p2, a3_p3, a3_r1, a3_r2, a3_r3, a3_f1, a3_f2, a3_f3, a3_p1_n, a3_p2_n, a3_p3_n, a3_r1_n, a3_r2_n, a3_r3_n, a3_f1_n, a3_f2_n, a3_f3_n)"
   ]
  },
  {
   "cell_type": "code",
   "execution_count": 120,
   "metadata": {},
   "outputs": [
    {
     "name": "stdout",
     "output_type": "stream",
     "text": [
      "\n",
      "Median when SVR has epsilon=\"0.1\"\n",
      "\n",
      "|           |       C=1 |      C=25 |      C=50 |\n",
      "|-----------+-----------+-----------+-----------|\n",
      "| precision | 0.0119048 | 0.0119048 | 0.0119048 |\n",
      "| recall    | 1         | 1         | 1         |\n",
      "| f1-score  | 0.0235294 | 0.0235294 | 0.0235294 |\n",
      "\n",
      "Median when SVR has epsilon=\"0.5\"\n",
      "\n",
      "|           |       C=1 |      C=25 |      C=50 |\n",
      "|-----------+-----------+-----------+-----------|\n",
      "| precision | 0.0119048 | 0.0119048 | 0.0119048 |\n",
      "| recall    | 0.5       | 0.5       | 0.5       |\n",
      "| f1-score  | 0.0232558 | 0.0232558 | 0.0232558 |\n"
     ]
    }
   ],
   "source": [
    "generate_median_table(a3_p1, a3_p2, a3_p3, a3_r1, a3_r2, a3_r3, a3_f1, a3_f2, a3_f3, a3_p1_n, a3_p2_n, a3_p3_n, a3_r1_n, a3_r2_n, a3_r3_n, a3_f1_n, a3_f2_n, a3_f3_n)"
   ]
  },
  {
   "cell_type": "markdown",
   "metadata": {},
   "source": [
    "### A4 Benchmark"
   ]
  },
  {
   "cell_type": "code",
   "execution_count": 115,
   "metadata": {},
   "outputs": [],
   "source": [
    "A4_dict_default = predictTimeSeriesNew('./data/ydata-labeled-time-series-anomalies-v1_0/A4Benchmark_processed/*.csv',1)\n",
    "A4_dict_C_25 = predictTimeSeriesNew('./data/ydata-labeled-time-series-anomalies-v1_0/A4Benchmark_processed/*.csv',1,C=25)\n",
    "A4_dict_C_50 = predictTimeSeriesNew('./data/ydata-labeled-time-series-anomalies-v1_0/A4Benchmark_processed/*.csv',1,C=50)\n",
    "A4_dict_e = predictTimeSeriesNew('./data/ydata-labeled-time-series-anomalies-v1_0/A4Benchmark_processed/*.csv',1,epsilon=0.5)\n",
    "A4_dict_e_C_25 = predictTimeSeriesNew('./data/ydata-labeled-time-series-anomalies-v1_0/A4Benchmark_processed/*.csv',1,epsilon=0.5, C=25)\n",
    "A4_dict_e_C_50 = predictTimeSeriesNew('./data/ydata-labeled-time-series-anomalies-v1_0/A4Benchmark_processed/*.csv',1,epsilon=0.5, C=50)"
   ]
  },
  {
   "cell_type": "code",
   "execution_count": 116,
   "metadata": {},
   "outputs": [
    {
     "data": {
      "image/png": "[encoded data removed]",
      "text/plain": [
       "<Figure size 720x720 with 6 Axes>"
      ]
     },
     "metadata": {
      "needs_background": "light"
     },
     "output_type": "display_data"
    }
   ],
   "source": [
    "# results for epsilon = 0.1\n",
    "a4_p1, a4_r1, a4_f1 = getMetricResults(A4_dict_default)\n",
    "a4_p2, a4_r2, a4_f2 = getMetricResults(A4_dict_C_25)\n",
    "a4_p3, a4_r3, a4_f3 = getMetricResults(A4_dict_C_50)\n",
    "\n",
    "# results for epsilon = 0.5\n",
    "a4_p1_n, a4_r1_n, a4_f1_n = getMetricResults(A4_dict_e)\n",
    "a4_p2_n, a4_r2_n, a4_f2_n = getMetricResults(A4_dict_e_C_25)\n",
    "a4_p3_n, a4_r3_n, a4_f3_n = getMetricResults(A4_dict_e_C_50)\n",
    "\n",
    "draw_box_plots(a4_p1, a4_p2, a4_p3, a4_r1, a4_r2, a4_r3, a4_f1, a4_f2, a4_f3, a4_p1_n, a4_p2_n, a4_p3_n, a4_r1_n, a4_r2_n, a4_r3_n, a4_f1_n, a4_f2_n, a4_f3_n)\n"
   ]
  },
  {
   "cell_type": "code",
   "execution_count": 117,
   "metadata": {},
   "outputs": [
    {
     "name": "stdout",
     "output_type": "stream",
     "text": [
      "\n",
      "Median when SVR has epsilon=\"0.1\"\n",
      "\n",
      "|           |       C=1 |      C=25 |      C=50 |\n",
      "|-----------+-----------+-----------+-----------|\n",
      "| precision | 0.0119048 | 0.0119048 | 0.0119048 |\n",
      "| recall    | 1         | 1         | 1         |\n",
      "| f1-score  | 0.0235294 | 0.0235294 | 0.0235294 |\n",
      "\n",
      "Median when SVR has epsilon=\"0.5\"\n",
      "\n",
      "|           |       C=1 |      C=25 |      C=50 |\n",
      "|-----------+-----------+-----------+-----------|\n",
      "| precision | 0.0119048 | 0.0119048 | 0.0119048 |\n",
      "| recall    | 0.5       | 0.5       | 0.5       |\n",
      "| f1-score  | 0.0232558 | 0.0232558 | 0.0232558 |\n"
     ]
    }
   ],
   "source": [
    "generate_median_table(a4_p1, a4_p2, a4_p3, a4_r1, a4_r2, a4_r3, a4_f1, a4_f2, a4_f3, a4_p1_n, a4_p2_n, a4_p3_n, a4_r1_n, a4_r2_n, a4_r3_n, a4_f1_n, a4_f2_n, a4_f3_n)"
   ]
  },
  {
   "cell_type": "code",
   "execution_count": null,
   "metadata": {},
   "outputs": [],
   "source": []
  },
  {
   "cell_type": "code",
   "execution_count": null,
   "metadata": {},
   "outputs": [],
   "source": []
  }
 ],
 "metadata": {
  "kernelspec": {
   "display_name": "Python 3",
   "language": "python",
   "name": "python3"
  },
  "language_info": {
   "codemirror_mode": {
    "name": "ipython",
    "version": 3
   },
   "file_extension": ".py",
   "mimetype": "text/x-python",
   "name": "python",
   "nbconvert_exporter": "python",
   "pygments_lexer": "ipython3",
   "version": "3.7.3"
  }
 },
 "nbformat": 4,
 "nbformat_minor": 2
}
